{
  "cells": [
    {
      "cell_type": "markdown",
      "metadata": {
        "id": "Ffq6A2-ifzAA"
      },
      "source": [
        "# Классификация текстов"
      ]
    },
    {
      "cell_type": "code",
      "execution_count": null,
      "metadata": {
        "id": "tNGRVO7_g9mz"
      },
      "outputs": [],
      "source": [
        "import numpy as np\n",
        "import pandas as pd\n",
        "from typing import  List\n",
        "import matplotlib.pyplot as plt\n",
        "import seaborn as sns\n",
        "from string import punctuation\n",
        "import warnings\n",
        "\n",
        "warnings.filterwarnings(\"ignore\")\n"
      ]
    },
    {
      "cell_type": "code",
      "execution_count": null,
      "metadata": {
        "id": "zOy8iHJQg_Ss",
        "colab": {
          "base_uri": "https://localhost:8080/",
          "height": 175
        },
        "outputId": "cea6d24a-60f0-4144-e18f-75e93b74b150"
      },
      "outputs": [
        {
          "output_type": "execute_result",
          "data": {
            "text/plain": [
              "       UserName  ScreenName                        Location     TweetAt  \\\n",
              "30665     41515       86467                     Concord, MA  10-04-2020   \n",
              "10006     15951       60903                   The Bay State  21-03-2020   \n",
              "3229       7704       52656                       Miami, Fl  18-03-2020   \n",
              "11401     17624       62576  LA2Chicago.No place like home.  21-03-2020   \n",
              "\n",
              "                                           OriginalTweet           Sentiment  \n",
              "30665  POULTRY INDUSTRYÃÂS DELAYED COVID-19 RESPONS...  Extremely Negative  \n",
              "10006  Every time I go out into the pandemic and try ...  Extremely Negative  \n",
              "3229   The line at the grocery store can be long amid...            Positive  \n",
              "11401  Wtf, #TraderJoes. Why on earth wonÃÂt u let ...            Negative  "
            ],
            "text/html": [
              "\n",
              "  <div id=\"df-325c85c8-f386-4577-ba0a-853c036ff3eb\" class=\"colab-df-container\">\n",
              "    <div>\n",
              "<style scoped>\n",
              "    .dataframe tbody tr th:only-of-type {\n",
              "        vertical-align: middle;\n",
              "    }\n",
              "\n",
              "    .dataframe tbody tr th {\n",
              "        vertical-align: top;\n",
              "    }\n",
              "\n",
              "    .dataframe thead th {\n",
              "        text-align: right;\n",
              "    }\n",
              "</style>\n",
              "<table border=\"1\" class=\"dataframe\">\n",
              "  <thead>\n",
              "    <tr style=\"text-align: right;\">\n",
              "      <th></th>\n",
              "      <th>UserName</th>\n",
              "      <th>ScreenName</th>\n",
              "      <th>Location</th>\n",
              "      <th>TweetAt</th>\n",
              "      <th>OriginalTweet</th>\n",
              "      <th>Sentiment</th>\n",
              "    </tr>\n",
              "  </thead>\n",
              "  <tbody>\n",
              "    <tr>\n",
              "      <th>30665</th>\n",
              "      <td>41515</td>\n",
              "      <td>86467</td>\n",
              "      <td>Concord, MA</td>\n",
              "      <td>10-04-2020</td>\n",
              "      <td>POULTRY INDUSTRYÃÂS DELAYED COVID-19 RESPONS...</td>\n",
              "      <td>Extremely Negative</td>\n",
              "    </tr>\n",
              "    <tr>\n",
              "      <th>10006</th>\n",
              "      <td>15951</td>\n",
              "      <td>60903</td>\n",
              "      <td>The Bay State</td>\n",
              "      <td>21-03-2020</td>\n",
              "      <td>Every time I go out into the pandemic and try ...</td>\n",
              "      <td>Extremely Negative</td>\n",
              "    </tr>\n",
              "    <tr>\n",
              "      <th>3229</th>\n",
              "      <td>7704</td>\n",
              "      <td>52656</td>\n",
              "      <td>Miami, Fl</td>\n",
              "      <td>18-03-2020</td>\n",
              "      <td>The line at the grocery store can be long amid...</td>\n",
              "      <td>Positive</td>\n",
              "    </tr>\n",
              "    <tr>\n",
              "      <th>11401</th>\n",
              "      <td>17624</td>\n",
              "      <td>62576</td>\n",
              "      <td>LA2Chicago.No place like home.</td>\n",
              "      <td>21-03-2020</td>\n",
              "      <td>Wtf, #TraderJoes. Why on earth wonÃÂt u let ...</td>\n",
              "      <td>Negative</td>\n",
              "    </tr>\n",
              "  </tbody>\n",
              "</table>\n",
              "</div>\n",
              "    <div class=\"colab-df-buttons\">\n",
              "\n",
              "  <div class=\"colab-df-container\">\n",
              "    <button class=\"colab-df-convert\" onclick=\"convertToInteractive('df-325c85c8-f386-4577-ba0a-853c036ff3eb')\"\n",
              "            title=\"Convert this dataframe to an interactive table.\"\n",
              "            style=\"display:none;\">\n",
              "\n",
              "  <svg xmlns=\"http://www.w3.org/2000/svg\" height=\"24px\" viewBox=\"0 -960 960 960\">\n",
              "    <path d=\"M120-120v-720h720v720H120Zm60-500h600v-160H180v160Zm220 220h160v-160H400v160Zm0 220h160v-160H400v160ZM180-400h160v-160H180v160Zm440 0h160v-160H620v160ZM180-180h160v-160H180v160Zm440 0h160v-160H620v160Z\"/>\n",
              "  </svg>\n",
              "    </button>\n",
              "\n",
              "  <style>\n",
              "    .colab-df-container {\n",
              "      display:flex;\n",
              "      gap: 12px;\n",
              "    }\n",
              "\n",
              "    .colab-df-convert {\n",
              "      background-color: #E8F0FE;\n",
              "      border: none;\n",
              "      border-radius: 50%;\n",
              "      cursor: pointer;\n",
              "      display: none;\n",
              "      fill: #1967D2;\n",
              "      height: 32px;\n",
              "      padding: 0 0 0 0;\n",
              "      width: 32px;\n",
              "    }\n",
              "\n",
              "    .colab-df-convert:hover {\n",
              "      background-color: #E2EBFA;\n",
              "      box-shadow: 0px 1px 2px rgba(60, 64, 67, 0.3), 0px 1px 3px 1px rgba(60, 64, 67, 0.15);\n",
              "      fill: #174EA6;\n",
              "    }\n",
              "\n",
              "    .colab-df-buttons div {\n",
              "      margin-bottom: 4px;\n",
              "    }\n",
              "\n",
              "    [theme=dark] .colab-df-convert {\n",
              "      background-color: #3B4455;\n",
              "      fill: #D2E3FC;\n",
              "    }\n",
              "\n",
              "    [theme=dark] .colab-df-convert:hover {\n",
              "      background-color: #434B5C;\n",
              "      box-shadow: 0px 1px 3px 1px rgba(0, 0, 0, 0.15);\n",
              "      filter: drop-shadow(0px 1px 2px rgba(0, 0, 0, 0.3));\n",
              "      fill: #FFFFFF;\n",
              "    }\n",
              "  </style>\n",
              "\n",
              "    <script>\n",
              "      const buttonEl =\n",
              "        document.querySelector('#df-325c85c8-f386-4577-ba0a-853c036ff3eb button.colab-df-convert');\n",
              "      buttonEl.style.display =\n",
              "        google.colab.kernel.accessAllowed ? 'block' : 'none';\n",
              "\n",
              "      async function convertToInteractive(key) {\n",
              "        const element = document.querySelector('#df-325c85c8-f386-4577-ba0a-853c036ff3eb');\n",
              "        const dataTable =\n",
              "          await google.colab.kernel.invokeFunction('convertToInteractive',\n",
              "                                                    [key], {});\n",
              "        if (!dataTable) return;\n",
              "\n",
              "        const docLinkHtml = 'Like what you see? Visit the ' +\n",
              "          '<a target=\"_blank\" href=https://colab.research.google.com/notebooks/data_table.ipynb>data table notebook</a>'\n",
              "          + ' to learn more about interactive tables.';\n",
              "        element.innerHTML = '';\n",
              "        dataTable['output_type'] = 'display_data';\n",
              "        await google.colab.output.renderOutput(dataTable, element);\n",
              "        const docLink = document.createElement('div');\n",
              "        docLink.innerHTML = docLinkHtml;\n",
              "        element.appendChild(docLink);\n",
              "      }\n",
              "    </script>\n",
              "  </div>\n",
              "\n",
              "\n",
              "<div id=\"df-7e8e0955-66c4-4083-8038-6e2f7cca7520\">\n",
              "  <button class=\"colab-df-quickchart\" onclick=\"quickchart('df-7e8e0955-66c4-4083-8038-6e2f7cca7520')\"\n",
              "            title=\"Suggest charts\"\n",
              "            style=\"display:none;\">\n",
              "\n",
              "<svg xmlns=\"http://www.w3.org/2000/svg\" height=\"24px\"viewBox=\"0 0 24 24\"\n",
              "     width=\"24px\">\n",
              "    <g>\n",
              "        <path d=\"M19 3H5c-1.1 0-2 .9-2 2v14c0 1.1.9 2 2 2h14c1.1 0 2-.9 2-2V5c0-1.1-.9-2-2-2zM9 17H7v-7h2v7zm4 0h-2V7h2v10zm4 0h-2v-4h2v4z\"/>\n",
              "    </g>\n",
              "</svg>\n",
              "  </button>\n",
              "\n",
              "<style>\n",
              "  .colab-df-quickchart {\n",
              "      --bg-color: #E8F0FE;\n",
              "      --fill-color: #1967D2;\n",
              "      --hover-bg-color: #E2EBFA;\n",
              "      --hover-fill-color: #174EA6;\n",
              "      --disabled-fill-color: #AAA;\n",
              "      --disabled-bg-color: #DDD;\n",
              "  }\n",
              "\n",
              "  [theme=dark] .colab-df-quickchart {\n",
              "      --bg-color: #3B4455;\n",
              "      --fill-color: #D2E3FC;\n",
              "      --hover-bg-color: #434B5C;\n",
              "      --hover-fill-color: #FFFFFF;\n",
              "      --disabled-bg-color: #3B4455;\n",
              "      --disabled-fill-color: #666;\n",
              "  }\n",
              "\n",
              "  .colab-df-quickchart {\n",
              "    background-color: var(--bg-color);\n",
              "    border: none;\n",
              "    border-radius: 50%;\n",
              "    cursor: pointer;\n",
              "    display: none;\n",
              "    fill: var(--fill-color);\n",
              "    height: 32px;\n",
              "    padding: 0;\n",
              "    width: 32px;\n",
              "  }\n",
              "\n",
              "  .colab-df-quickchart:hover {\n",
              "    background-color: var(--hover-bg-color);\n",
              "    box-shadow: 0 1px 2px rgba(60, 64, 67, 0.3), 0 1px 3px 1px rgba(60, 64, 67, 0.15);\n",
              "    fill: var(--button-hover-fill-color);\n",
              "  }\n",
              "\n",
              "  .colab-df-quickchart-complete:disabled,\n",
              "  .colab-df-quickchart-complete:disabled:hover {\n",
              "    background-color: var(--disabled-bg-color);\n",
              "    fill: var(--disabled-fill-color);\n",
              "    box-shadow: none;\n",
              "  }\n",
              "\n",
              "  .colab-df-spinner {\n",
              "    border: 2px solid var(--fill-color);\n",
              "    border-color: transparent;\n",
              "    border-bottom-color: var(--fill-color);\n",
              "    animation:\n",
              "      spin 1s steps(1) infinite;\n",
              "  }\n",
              "\n",
              "  @keyframes spin {\n",
              "    0% {\n",
              "      border-color: transparent;\n",
              "      border-bottom-color: var(--fill-color);\n",
              "      border-left-color: var(--fill-color);\n",
              "    }\n",
              "    20% {\n",
              "      border-color: transparent;\n",
              "      border-left-color: var(--fill-color);\n",
              "      border-top-color: var(--fill-color);\n",
              "    }\n",
              "    30% {\n",
              "      border-color: transparent;\n",
              "      border-left-color: var(--fill-color);\n",
              "      border-top-color: var(--fill-color);\n",
              "      border-right-color: var(--fill-color);\n",
              "    }\n",
              "    40% {\n",
              "      border-color: transparent;\n",
              "      border-right-color: var(--fill-color);\n",
              "      border-top-color: var(--fill-color);\n",
              "    }\n",
              "    60% {\n",
              "      border-color: transparent;\n",
              "      border-right-color: var(--fill-color);\n",
              "    }\n",
              "    80% {\n",
              "      border-color: transparent;\n",
              "      border-right-color: var(--fill-color);\n",
              "      border-bottom-color: var(--fill-color);\n",
              "    }\n",
              "    90% {\n",
              "      border-color: transparent;\n",
              "      border-bottom-color: var(--fill-color);\n",
              "    }\n",
              "  }\n",
              "</style>\n",
              "\n",
              "  <script>\n",
              "    async function quickchart(key) {\n",
              "      const quickchartButtonEl =\n",
              "        document.querySelector('#' + key + ' button');\n",
              "      quickchartButtonEl.disabled = true;  // To prevent multiple clicks.\n",
              "      quickchartButtonEl.classList.add('colab-df-spinner');\n",
              "      try {\n",
              "        const charts = await google.colab.kernel.invokeFunction(\n",
              "            'suggestCharts', [key], {});\n",
              "      } catch (error) {\n",
              "        console.error('Error during call to suggestCharts:', error);\n",
              "      }\n",
              "      quickchartButtonEl.classList.remove('colab-df-spinner');\n",
              "      quickchartButtonEl.classList.add('colab-df-quickchart-complete');\n",
              "    }\n",
              "    (() => {\n",
              "      let quickchartButtonEl =\n",
              "        document.querySelector('#df-7e8e0955-66c4-4083-8038-6e2f7cca7520 button');\n",
              "      quickchartButtonEl.style.display =\n",
              "        google.colab.kernel.accessAllowed ? 'block' : 'none';\n",
              "    })();\n",
              "  </script>\n",
              "</div>\n",
              "    </div>\n",
              "  </div>\n"
            ],
            "application/vnd.google.colaboratory.intrinsic+json": {
              "type": "dataframe",
              "summary": "{\n  \"name\": \"df\",\n  \"rows\": 4,\n  \"fields\": [\n    {\n      \"column\": \"UserName\",\n      \"properties\": {\n        \"dtype\": \"number\",\n        \"std\": 14539,\n        \"min\": 7704,\n        \"max\": 41515,\n        \"num_unique_values\": 4,\n        \"samples\": [\n          15951,\n          17624,\n          41515\n        ],\n        \"semantic_type\": \"\",\n        \"description\": \"\"\n      }\n    },\n    {\n      \"column\": \"ScreenName\",\n      \"properties\": {\n        \"dtype\": \"number\",\n        \"std\": 14539,\n        \"min\": 52656,\n        \"max\": 86467,\n        \"num_unique_values\": 4,\n        \"samples\": [\n          60903,\n          62576,\n          86467\n        ],\n        \"semantic_type\": \"\",\n        \"description\": \"\"\n      }\n    },\n    {\n      \"column\": \"Location\",\n      \"properties\": {\n        \"dtype\": \"string\",\n        \"num_unique_values\": 4,\n        \"samples\": [\n          \"The Bay State\",\n          \"LA2Chicago.No place like home.\",\n          \"Concord, MA\"\n        ],\n        \"semantic_type\": \"\",\n        \"description\": \"\"\n      }\n    },\n    {\n      \"column\": \"TweetAt\",\n      \"properties\": {\n        \"dtype\": \"string\",\n        \"num_unique_values\": 3,\n        \"samples\": [\n          \"10-04-2020\",\n          \"21-03-2020\",\n          \"18-03-2020\"\n        ],\n        \"semantic_type\": \"\",\n        \"description\": \"\"\n      }\n    },\n    {\n      \"column\": \"OriginalTweet\",\n      \"properties\": {\n        \"dtype\": \"string\",\n        \"num_unique_values\": 4,\n        \"samples\": [\n          \"Every time I go out into the pandemic and try to avoid the supermarket mob, my face starts itching uncontrollably. Then idiots want to chat about the pillaging going on in the store. Then everyone packs into lines at check-out. I'm a likely victim of COVID-19, and people suck.\",\n          \"Wtf, #TraderJoes. Why on earth won\\u00c3\\u0082\\u00c2\\u0092t u let employees wear gloves? You should insist on it! Everyone working @ my ?@jewelosco? wore gloves &amp; I was very grateful 4 it. Are u nuts? #Coronavirus: Supermarket, Pharmacy Workers Fear Turning Up To Work https://t.co/NWURkDI5ZT\",\n          \"POULTRY INDUSTRY\\u00c3\\u0082\\u00c2\\u0092S DELAYED COVID-19 RESPONSE IS KILLING AMERICA\\u00c3\\u0082\\u00c2\\u0092S ESSENTIAL WORKERS - PROTECT THEM NOW - Retail, Wholesale and Department Store Union\\r\\r\\nWhat the hell.\\r\\r\\nWe\\u00c3\\u0082\\u00c2\\u0092re still not protecting our workers.  https://t.co/I3hhmURaGf\"\n        ],\n        \"semantic_type\": \"\",\n        \"description\": \"\"\n      }\n    },\n    {\n      \"column\": \"Sentiment\",\n      \"properties\": {\n        \"dtype\": \"string\",\n        \"num_unique_values\": 3,\n        \"samples\": [\n          \"Extremely Negative\",\n          \"Positive\",\n          \"Negative\"\n        ],\n        \"semantic_type\": \"\",\n        \"description\": \"\"\n      }\n    }\n  ]\n}"
            }
          },
          "metadata": {},
          "execution_count": 99
        }
      ],
      "source": [
        "df = pd.read_csv('tweets_coronavirus.csv', encoding='latin-1')\n",
        "df.sample(4)"
      ]
    },
    {
      "cell_type": "markdown",
      "metadata": {
        "id": "m2OiDog9ZBlS"
      },
      "source": [
        "Для каждого твитта указано:\n",
        "\n",
        "\n",
        "*   UserName - имя пользователя, заменено на целое число для анонимности\n",
        "*   ScreenName - отображающееся имя пользователя, заменено на целое число для анонимности\n",
        "*   Location - местоположение\n",
        "*   TweetAt - дата создания твитта\n",
        "*   OriginalTweet - текст твитта\n",
        "*   Sentiment - эмоциональная окраска твитта (целевая переменная)\n",
        "\n"
      ]
    },
    {
      "cell_type": "markdown",
      "metadata": {
        "id": "pZTMseDkhTC7"
      },
      "source": [
        "##  Подготовка"
      ]
    },
    {
      "cell_type": "code",
      "source": [
        "df['Sentiment'] = df['Sentiment'].str.contains('Positive', case=False).astype(int) # ищет в каждой строке слово Positive, если оно есть, то заменяет значение на True, потом преобразовывает в 1\n",
        "df.sample(4)"
      ],
      "metadata": {
        "colab": {
          "base_uri": "https://localhost:8080/",
          "height": 175
        },
        "id": "FtROA-X-Vkp-",
        "outputId": "4bd0d4d6-9fbc-4a91-d683-bb971fb13264"
      },
      "execution_count": null,
      "outputs": [
        {
          "output_type": "execute_result",
          "data": {
            "text/plain": [
              "       UserName  ScreenName          Location     TweetAt  \\\n",
              "16953     24432       69384               NaN  25-03-2020   \n",
              "32616     43920       88872    Washington, DC  13-04-2020   \n",
              "13365     20017       64969  On Your Timeline  22-03-2020   \n",
              "30356     41101       86053     United States  10-04-2020   \n",
              "\n",
              "                                           OriginalTweet  Sentiment  \n",
              "16953  Egg prices are skyrocketing because of coronav...          0  \n",
              "32616  The most visible impacts of coronavirus are in...          1  \n",
              "13365  Letter Carriers Say the Postal Service Pressur...          0  \n",
              "30356  Strange times when toilet paper &amp; Lysol ar...          0  "
            ],
            "text/html": [
              "\n",
              "  <div id=\"df-2827d632-6af0-4009-a52b-76bdae6e1cb3\" class=\"colab-df-container\">\n",
              "    <div>\n",
              "<style scoped>\n",
              "    .dataframe tbody tr th:only-of-type {\n",
              "        vertical-align: middle;\n",
              "    }\n",
              "\n",
              "    .dataframe tbody tr th {\n",
              "        vertical-align: top;\n",
              "    }\n",
              "\n",
              "    .dataframe thead th {\n",
              "        text-align: right;\n",
              "    }\n",
              "</style>\n",
              "<table border=\"1\" class=\"dataframe\">\n",
              "  <thead>\n",
              "    <tr style=\"text-align: right;\">\n",
              "      <th></th>\n",
              "      <th>UserName</th>\n",
              "      <th>ScreenName</th>\n",
              "      <th>Location</th>\n",
              "      <th>TweetAt</th>\n",
              "      <th>OriginalTweet</th>\n",
              "      <th>Sentiment</th>\n",
              "    </tr>\n",
              "  </thead>\n",
              "  <tbody>\n",
              "    <tr>\n",
              "      <th>16953</th>\n",
              "      <td>24432</td>\n",
              "      <td>69384</td>\n",
              "      <td>NaN</td>\n",
              "      <td>25-03-2020</td>\n",
              "      <td>Egg prices are skyrocketing because of coronav...</td>\n",
              "      <td>0</td>\n",
              "    </tr>\n",
              "    <tr>\n",
              "      <th>32616</th>\n",
              "      <td>43920</td>\n",
              "      <td>88872</td>\n",
              "      <td>Washington, DC</td>\n",
              "      <td>13-04-2020</td>\n",
              "      <td>The most visible impacts of coronavirus are in...</td>\n",
              "      <td>1</td>\n",
              "    </tr>\n",
              "    <tr>\n",
              "      <th>13365</th>\n",
              "      <td>20017</td>\n",
              "      <td>64969</td>\n",
              "      <td>On Your Timeline</td>\n",
              "      <td>22-03-2020</td>\n",
              "      <td>Letter Carriers Say the Postal Service Pressur...</td>\n",
              "      <td>0</td>\n",
              "    </tr>\n",
              "    <tr>\n",
              "      <th>30356</th>\n",
              "      <td>41101</td>\n",
              "      <td>86053</td>\n",
              "      <td>United States</td>\n",
              "      <td>10-04-2020</td>\n",
              "      <td>Strange times when toilet paper &amp;amp; Lysol ar...</td>\n",
              "      <td>0</td>\n",
              "    </tr>\n",
              "  </tbody>\n",
              "</table>\n",
              "</div>\n",
              "    <div class=\"colab-df-buttons\">\n",
              "\n",
              "  <div class=\"colab-df-container\">\n",
              "    <button class=\"colab-df-convert\" onclick=\"convertToInteractive('df-2827d632-6af0-4009-a52b-76bdae6e1cb3')\"\n",
              "            title=\"Convert this dataframe to an interactive table.\"\n",
              "            style=\"display:none;\">\n",
              "\n",
              "  <svg xmlns=\"http://www.w3.org/2000/svg\" height=\"24px\" viewBox=\"0 -960 960 960\">\n",
              "    <path d=\"M120-120v-720h720v720H120Zm60-500h600v-160H180v160Zm220 220h160v-160H400v160Zm0 220h160v-160H400v160ZM180-400h160v-160H180v160Zm440 0h160v-160H620v160ZM180-180h160v-160H180v160Zm440 0h160v-160H620v160Z\"/>\n",
              "  </svg>\n",
              "    </button>\n",
              "\n",
              "  <style>\n",
              "    .colab-df-container {\n",
              "      display:flex;\n",
              "      gap: 12px;\n",
              "    }\n",
              "\n",
              "    .colab-df-convert {\n",
              "      background-color: #E8F0FE;\n",
              "      border: none;\n",
              "      border-radius: 50%;\n",
              "      cursor: pointer;\n",
              "      display: none;\n",
              "      fill: #1967D2;\n",
              "      height: 32px;\n",
              "      padding: 0 0 0 0;\n",
              "      width: 32px;\n",
              "    }\n",
              "\n",
              "    .colab-df-convert:hover {\n",
              "      background-color: #E2EBFA;\n",
              "      box-shadow: 0px 1px 2px rgba(60, 64, 67, 0.3), 0px 1px 3px 1px rgba(60, 64, 67, 0.15);\n",
              "      fill: #174EA6;\n",
              "    }\n",
              "\n",
              "    .colab-df-buttons div {\n",
              "      margin-bottom: 4px;\n",
              "    }\n",
              "\n",
              "    [theme=dark] .colab-df-convert {\n",
              "      background-color: #3B4455;\n",
              "      fill: #D2E3FC;\n",
              "    }\n",
              "\n",
              "    [theme=dark] .colab-df-convert:hover {\n",
              "      background-color: #434B5C;\n",
              "      box-shadow: 0px 1px 3px 1px rgba(0, 0, 0, 0.15);\n",
              "      filter: drop-shadow(0px 1px 2px rgba(0, 0, 0, 0.3));\n",
              "      fill: #FFFFFF;\n",
              "    }\n",
              "  </style>\n",
              "\n",
              "    <script>\n",
              "      const buttonEl =\n",
              "        document.querySelector('#df-2827d632-6af0-4009-a52b-76bdae6e1cb3 button.colab-df-convert');\n",
              "      buttonEl.style.display =\n",
              "        google.colab.kernel.accessAllowed ? 'block' : 'none';\n",
              "\n",
              "      async function convertToInteractive(key) {\n",
              "        const element = document.querySelector('#df-2827d632-6af0-4009-a52b-76bdae6e1cb3');\n",
              "        const dataTable =\n",
              "          await google.colab.kernel.invokeFunction('convertToInteractive',\n",
              "                                                    [key], {});\n",
              "        if (!dataTable) return;\n",
              "\n",
              "        const docLinkHtml = 'Like what you see? Visit the ' +\n",
              "          '<a target=\"_blank\" href=https://colab.research.google.com/notebooks/data_table.ipynb>data table notebook</a>'\n",
              "          + ' to learn more about interactive tables.';\n",
              "        element.innerHTML = '';\n",
              "        dataTable['output_type'] = 'display_data';\n",
              "        await google.colab.output.renderOutput(dataTable, element);\n",
              "        const docLink = document.createElement('div');\n",
              "        docLink.innerHTML = docLinkHtml;\n",
              "        element.appendChild(docLink);\n",
              "      }\n",
              "    </script>\n",
              "  </div>\n",
              "\n",
              "\n",
              "<div id=\"df-6d899417-7f81-47e8-821d-6a95eb4fbf5f\">\n",
              "  <button class=\"colab-df-quickchart\" onclick=\"quickchart('df-6d899417-7f81-47e8-821d-6a95eb4fbf5f')\"\n",
              "            title=\"Suggest charts\"\n",
              "            style=\"display:none;\">\n",
              "\n",
              "<svg xmlns=\"http://www.w3.org/2000/svg\" height=\"24px\"viewBox=\"0 0 24 24\"\n",
              "     width=\"24px\">\n",
              "    <g>\n",
              "        <path d=\"M19 3H5c-1.1 0-2 .9-2 2v14c0 1.1.9 2 2 2h14c1.1 0 2-.9 2-2V5c0-1.1-.9-2-2-2zM9 17H7v-7h2v7zm4 0h-2V7h2v10zm4 0h-2v-4h2v4z\"/>\n",
              "    </g>\n",
              "</svg>\n",
              "  </button>\n",
              "\n",
              "<style>\n",
              "  .colab-df-quickchart {\n",
              "      --bg-color: #E8F0FE;\n",
              "      --fill-color: #1967D2;\n",
              "      --hover-bg-color: #E2EBFA;\n",
              "      --hover-fill-color: #174EA6;\n",
              "      --disabled-fill-color: #AAA;\n",
              "      --disabled-bg-color: #DDD;\n",
              "  }\n",
              "\n",
              "  [theme=dark] .colab-df-quickchart {\n",
              "      --bg-color: #3B4455;\n",
              "      --fill-color: #D2E3FC;\n",
              "      --hover-bg-color: #434B5C;\n",
              "      --hover-fill-color: #FFFFFF;\n",
              "      --disabled-bg-color: #3B4455;\n",
              "      --disabled-fill-color: #666;\n",
              "  }\n",
              "\n",
              "  .colab-df-quickchart {\n",
              "    background-color: var(--bg-color);\n",
              "    border: none;\n",
              "    border-radius: 50%;\n",
              "    cursor: pointer;\n",
              "    display: none;\n",
              "    fill: var(--fill-color);\n",
              "    height: 32px;\n",
              "    padding: 0;\n",
              "    width: 32px;\n",
              "  }\n",
              "\n",
              "  .colab-df-quickchart:hover {\n",
              "    background-color: var(--hover-bg-color);\n",
              "    box-shadow: 0 1px 2px rgba(60, 64, 67, 0.3), 0 1px 3px 1px rgba(60, 64, 67, 0.15);\n",
              "    fill: var(--button-hover-fill-color);\n",
              "  }\n",
              "\n",
              "  .colab-df-quickchart-complete:disabled,\n",
              "  .colab-df-quickchart-complete:disabled:hover {\n",
              "    background-color: var(--disabled-bg-color);\n",
              "    fill: var(--disabled-fill-color);\n",
              "    box-shadow: none;\n",
              "  }\n",
              "\n",
              "  .colab-df-spinner {\n",
              "    border: 2px solid var(--fill-color);\n",
              "    border-color: transparent;\n",
              "    border-bottom-color: var(--fill-color);\n",
              "    animation:\n",
              "      spin 1s steps(1) infinite;\n",
              "  }\n",
              "\n",
              "  @keyframes spin {\n",
              "    0% {\n",
              "      border-color: transparent;\n",
              "      border-bottom-color: var(--fill-color);\n",
              "      border-left-color: var(--fill-color);\n",
              "    }\n",
              "    20% {\n",
              "      border-color: transparent;\n",
              "      border-left-color: var(--fill-color);\n",
              "      border-top-color: var(--fill-color);\n",
              "    }\n",
              "    30% {\n",
              "      border-color: transparent;\n",
              "      border-left-color: var(--fill-color);\n",
              "      border-top-color: var(--fill-color);\n",
              "      border-right-color: var(--fill-color);\n",
              "    }\n",
              "    40% {\n",
              "      border-color: transparent;\n",
              "      border-right-color: var(--fill-color);\n",
              "      border-top-color: var(--fill-color);\n",
              "    }\n",
              "    60% {\n",
              "      border-color: transparent;\n",
              "      border-right-color: var(--fill-color);\n",
              "    }\n",
              "    80% {\n",
              "      border-color: transparent;\n",
              "      border-right-color: var(--fill-color);\n",
              "      border-bottom-color: var(--fill-color);\n",
              "    }\n",
              "    90% {\n",
              "      border-color: transparent;\n",
              "      border-bottom-color: var(--fill-color);\n",
              "    }\n",
              "  }\n",
              "</style>\n",
              "\n",
              "  <script>\n",
              "    async function quickchart(key) {\n",
              "      const quickchartButtonEl =\n",
              "        document.querySelector('#' + key + ' button');\n",
              "      quickchartButtonEl.disabled = true;  // To prevent multiple clicks.\n",
              "      quickchartButtonEl.classList.add('colab-df-spinner');\n",
              "      try {\n",
              "        const charts = await google.colab.kernel.invokeFunction(\n",
              "            'suggestCharts', [key], {});\n",
              "      } catch (error) {\n",
              "        console.error('Error during call to suggestCharts:', error);\n",
              "      }\n",
              "      quickchartButtonEl.classList.remove('colab-df-spinner');\n",
              "      quickchartButtonEl.classList.add('colab-df-quickchart-complete');\n",
              "    }\n",
              "    (() => {\n",
              "      let quickchartButtonEl =\n",
              "        document.querySelector('#df-6d899417-7f81-47e8-821d-6a95eb4fbf5f button');\n",
              "      quickchartButtonEl.style.display =\n",
              "        google.colab.kernel.accessAllowed ? 'block' : 'none';\n",
              "    })();\n",
              "  </script>\n",
              "</div>\n",
              "    </div>\n",
              "  </div>\n"
            ],
            "application/vnd.google.colaboratory.intrinsic+json": {
              "type": "dataframe",
              "repr_error": "0"
            }
          },
          "metadata": {},
          "execution_count": 100
        }
      ]
    },
    {
      "cell_type": "code",
      "execution_count": null,
      "metadata": {
        "id": "a7gdNtxckK5V",
        "colab": {
          "base_uri": "https://localhost:8080/"
        },
        "outputId": "30bfb92a-2803-40d2-ace6-aaa4f89ba266"
      },
      "outputs": [
        {
          "output_type": "execute_result",
          "data": {
            "text/plain": [
              "Sentiment\n",
              "1    18046\n",
              "0    15398\n",
              "Name: count, dtype: int64"
            ]
          },
          "metadata": {},
          "execution_count": 101
        }
      ],
      "source": [
        "df['Sentiment'].value_counts()"
      ]
    },
    {
      "cell_type": "markdown",
      "metadata": {
        "id": "Ng8BCelMkWb0"
      },
      "source": [
        "Классы можно назвать сбалансированными, поскольку они относятся как 6:5"
      ]
    },
    {
      "cell_type": "code",
      "source": [
        "df.isna().sum()"
      ],
      "metadata": {
        "colab": {
          "base_uri": "https://localhost:8080/"
        },
        "id": "39OECcOvY3I3",
        "outputId": "cb299ead-a9d7-4466-c174-7a80088db23f"
      },
      "execution_count": null,
      "outputs": [
        {
          "output_type": "execute_result",
          "data": {
            "text/plain": [
              "UserName            0\n",
              "ScreenName          0\n",
              "Location         7049\n",
              "TweetAt             0\n",
              "OriginalTweet       0\n",
              "Sentiment           0\n",
              "dtype: int64"
            ]
          },
          "metadata": {},
          "execution_count": 102
        }
      ]
    },
    {
      "cell_type": "code",
      "execution_count": null,
      "metadata": {
        "id": "UhUVRkR5kxa7",
        "colab": {
          "base_uri": "https://localhost:8080/",
          "height": 424
        },
        "outputId": "f5de477d-2889-4b5d-a4d6-8a9a4ac23f75"
      },
      "outputs": [
        {
          "output_type": "execute_result",
          "data": {
            "text/plain": [
              "       UserName  ScreenName Location     TweetAt  \\\n",
              "2          3802       48754      NaN  16-03-2020   \n",
              "3          3803       48755      NaN  16-03-2020   \n",
              "11         3813       48765      NaN  16-03-2020   \n",
              "16         3821       48773      NaN  16-03-2020   \n",
              "17         3822       48774      NaN  16-03-2020   \n",
              "...         ...         ...      ...         ...   \n",
              "33431     44938       89890      NaN  14-04-2020   \n",
              "33437     44947       89899      NaN  14-04-2020   \n",
              "33440     44950       89902      NaN  14-04-2020   \n",
              "33441     44952       89904      NaN  14-04-2020   \n",
              "33442     44953       89905      NaN  14-04-2020   \n",
              "\n",
              "                                           OriginalTweet  Sentiment  \n",
              "2      My food stock is not the only one which is emp...          1  \n",
              "3      Me, ready to go at supermarket during the #COV...          0  \n",
              "11     ADARA Releases COVID-19 Resource Center for Tr...          1  \n",
              "16     We have AMAZING CHEAP DEALS! FOR THE #COVID201...          1  \n",
              "17     We have AMAZING CHEAP DEALS! FOR THE #COVID201...          1  \n",
              "...                                                  ...        ...  \n",
              "33431  Hello everyone \\r\\r\\nPlease share this in your...          1  \n",
              "33437  UV light Sterilizer Sanitizer for your mask an...          1  \n",
              "33440  @MrSilverScott you are definitely my man. I fe...          1  \n",
              "33441  Response to complaint not provided citing COVI...          0  \n",
              "33442  You know itÃÂs getting tough when @KameronWi...          1  \n",
              "\n",
              "[7049 rows x 6 columns]"
            ],
            "text/html": [
              "\n",
              "  <div id=\"df-8e8e03b9-1a82-44c3-b5bc-2e0476f33d08\" class=\"colab-df-container\">\n",
              "    <div>\n",
              "<style scoped>\n",
              "    .dataframe tbody tr th:only-of-type {\n",
              "        vertical-align: middle;\n",
              "    }\n",
              "\n",
              "    .dataframe tbody tr th {\n",
              "        vertical-align: top;\n",
              "    }\n",
              "\n",
              "    .dataframe thead th {\n",
              "        text-align: right;\n",
              "    }\n",
              "</style>\n",
              "<table border=\"1\" class=\"dataframe\">\n",
              "  <thead>\n",
              "    <tr style=\"text-align: right;\">\n",
              "      <th></th>\n",
              "      <th>UserName</th>\n",
              "      <th>ScreenName</th>\n",
              "      <th>Location</th>\n",
              "      <th>TweetAt</th>\n",
              "      <th>OriginalTweet</th>\n",
              "      <th>Sentiment</th>\n",
              "    </tr>\n",
              "  </thead>\n",
              "  <tbody>\n",
              "    <tr>\n",
              "      <th>2</th>\n",
              "      <td>3802</td>\n",
              "      <td>48754</td>\n",
              "      <td>NaN</td>\n",
              "      <td>16-03-2020</td>\n",
              "      <td>My food stock is not the only one which is emp...</td>\n",
              "      <td>1</td>\n",
              "    </tr>\n",
              "    <tr>\n",
              "      <th>3</th>\n",
              "      <td>3803</td>\n",
              "      <td>48755</td>\n",
              "      <td>NaN</td>\n",
              "      <td>16-03-2020</td>\n",
              "      <td>Me, ready to go at supermarket during the #COV...</td>\n",
              "      <td>0</td>\n",
              "    </tr>\n",
              "    <tr>\n",
              "      <th>11</th>\n",
              "      <td>3813</td>\n",
              "      <td>48765</td>\n",
              "      <td>NaN</td>\n",
              "      <td>16-03-2020</td>\n",
              "      <td>ADARA Releases COVID-19 Resource Center for Tr...</td>\n",
              "      <td>1</td>\n",
              "    </tr>\n",
              "    <tr>\n",
              "      <th>16</th>\n",
              "      <td>3821</td>\n",
              "      <td>48773</td>\n",
              "      <td>NaN</td>\n",
              "      <td>16-03-2020</td>\n",
              "      <td>We have AMAZING CHEAP DEALS! FOR THE #COVID201...</td>\n",
              "      <td>1</td>\n",
              "    </tr>\n",
              "    <tr>\n",
              "      <th>17</th>\n",
              "      <td>3822</td>\n",
              "      <td>48774</td>\n",
              "      <td>NaN</td>\n",
              "      <td>16-03-2020</td>\n",
              "      <td>We have AMAZING CHEAP DEALS! FOR THE #COVID201...</td>\n",
              "      <td>1</td>\n",
              "    </tr>\n",
              "    <tr>\n",
              "      <th>...</th>\n",
              "      <td>...</td>\n",
              "      <td>...</td>\n",
              "      <td>...</td>\n",
              "      <td>...</td>\n",
              "      <td>...</td>\n",
              "      <td>...</td>\n",
              "    </tr>\n",
              "    <tr>\n",
              "      <th>33431</th>\n",
              "      <td>44938</td>\n",
              "      <td>89890</td>\n",
              "      <td>NaN</td>\n",
              "      <td>14-04-2020</td>\n",
              "      <td>Hello everyone \\r\\r\\nPlease share this in your...</td>\n",
              "      <td>1</td>\n",
              "    </tr>\n",
              "    <tr>\n",
              "      <th>33437</th>\n",
              "      <td>44947</td>\n",
              "      <td>89899</td>\n",
              "      <td>NaN</td>\n",
              "      <td>14-04-2020</td>\n",
              "      <td>UV light Sterilizer Sanitizer for your mask an...</td>\n",
              "      <td>1</td>\n",
              "    </tr>\n",
              "    <tr>\n",
              "      <th>33440</th>\n",
              "      <td>44950</td>\n",
              "      <td>89902</td>\n",
              "      <td>NaN</td>\n",
              "      <td>14-04-2020</td>\n",
              "      <td>@MrSilverScott you are definitely my man. I fe...</td>\n",
              "      <td>1</td>\n",
              "    </tr>\n",
              "    <tr>\n",
              "      <th>33441</th>\n",
              "      <td>44952</td>\n",
              "      <td>89904</td>\n",
              "      <td>NaN</td>\n",
              "      <td>14-04-2020</td>\n",
              "      <td>Response to complaint not provided citing COVI...</td>\n",
              "      <td>0</td>\n",
              "    </tr>\n",
              "    <tr>\n",
              "      <th>33442</th>\n",
              "      <td>44953</td>\n",
              "      <td>89905</td>\n",
              "      <td>NaN</td>\n",
              "      <td>14-04-2020</td>\n",
              "      <td>You know itÃÂs getting tough when @KameronWi...</td>\n",
              "      <td>1</td>\n",
              "    </tr>\n",
              "  </tbody>\n",
              "</table>\n",
              "<p>7049 rows × 6 columns</p>\n",
              "</div>\n",
              "    <div class=\"colab-df-buttons\">\n",
              "\n",
              "  <div class=\"colab-df-container\">\n",
              "    <button class=\"colab-df-convert\" onclick=\"convertToInteractive('df-8e8e03b9-1a82-44c3-b5bc-2e0476f33d08')\"\n",
              "            title=\"Convert this dataframe to an interactive table.\"\n",
              "            style=\"display:none;\">\n",
              "\n",
              "  <svg xmlns=\"http://www.w3.org/2000/svg\" height=\"24px\" viewBox=\"0 -960 960 960\">\n",
              "    <path d=\"M120-120v-720h720v720H120Zm60-500h600v-160H180v160Zm220 220h160v-160H400v160Zm0 220h160v-160H400v160ZM180-400h160v-160H180v160Zm440 0h160v-160H620v160ZM180-180h160v-160H180v160Zm440 0h160v-160H620v160Z\"/>\n",
              "  </svg>\n",
              "    </button>\n",
              "\n",
              "  <style>\n",
              "    .colab-df-container {\n",
              "      display:flex;\n",
              "      gap: 12px;\n",
              "    }\n",
              "\n",
              "    .colab-df-convert {\n",
              "      background-color: #E8F0FE;\n",
              "      border: none;\n",
              "      border-radius: 50%;\n",
              "      cursor: pointer;\n",
              "      display: none;\n",
              "      fill: #1967D2;\n",
              "      height: 32px;\n",
              "      padding: 0 0 0 0;\n",
              "      width: 32px;\n",
              "    }\n",
              "\n",
              "    .colab-df-convert:hover {\n",
              "      background-color: #E2EBFA;\n",
              "      box-shadow: 0px 1px 2px rgba(60, 64, 67, 0.3), 0px 1px 3px 1px rgba(60, 64, 67, 0.15);\n",
              "      fill: #174EA6;\n",
              "    }\n",
              "\n",
              "    .colab-df-buttons div {\n",
              "      margin-bottom: 4px;\n",
              "    }\n",
              "\n",
              "    [theme=dark] .colab-df-convert {\n",
              "      background-color: #3B4455;\n",
              "      fill: #D2E3FC;\n",
              "    }\n",
              "\n",
              "    [theme=dark] .colab-df-convert:hover {\n",
              "      background-color: #434B5C;\n",
              "      box-shadow: 0px 1px 3px 1px rgba(0, 0, 0, 0.15);\n",
              "      filter: drop-shadow(0px 1px 2px rgba(0, 0, 0, 0.3));\n",
              "      fill: #FFFFFF;\n",
              "    }\n",
              "  </style>\n",
              "\n",
              "    <script>\n",
              "      const buttonEl =\n",
              "        document.querySelector('#df-8e8e03b9-1a82-44c3-b5bc-2e0476f33d08 button.colab-df-convert');\n",
              "      buttonEl.style.display =\n",
              "        google.colab.kernel.accessAllowed ? 'block' : 'none';\n",
              "\n",
              "      async function convertToInteractive(key) {\n",
              "        const element = document.querySelector('#df-8e8e03b9-1a82-44c3-b5bc-2e0476f33d08');\n",
              "        const dataTable =\n",
              "          await google.colab.kernel.invokeFunction('convertToInteractive',\n",
              "                                                    [key], {});\n",
              "        if (!dataTable) return;\n",
              "\n",
              "        const docLinkHtml = 'Like what you see? Visit the ' +\n",
              "          '<a target=\"_blank\" href=https://colab.research.google.com/notebooks/data_table.ipynb>data table notebook</a>'\n",
              "          + ' to learn more about interactive tables.';\n",
              "        element.innerHTML = '';\n",
              "        dataTable['output_type'] = 'display_data';\n",
              "        await google.colab.output.renderOutput(dataTable, element);\n",
              "        const docLink = document.createElement('div');\n",
              "        docLink.innerHTML = docLinkHtml;\n",
              "        element.appendChild(docLink);\n",
              "      }\n",
              "    </script>\n",
              "  </div>\n",
              "\n",
              "\n",
              "<div id=\"df-581f3d25-d92c-44e4-b013-5fad0e4b15a7\">\n",
              "  <button class=\"colab-df-quickchart\" onclick=\"quickchart('df-581f3d25-d92c-44e4-b013-5fad0e4b15a7')\"\n",
              "            title=\"Suggest charts\"\n",
              "            style=\"display:none;\">\n",
              "\n",
              "<svg xmlns=\"http://www.w3.org/2000/svg\" height=\"24px\"viewBox=\"0 0 24 24\"\n",
              "     width=\"24px\">\n",
              "    <g>\n",
              "        <path d=\"M19 3H5c-1.1 0-2 .9-2 2v14c0 1.1.9 2 2 2h14c1.1 0 2-.9 2-2V5c0-1.1-.9-2-2-2zM9 17H7v-7h2v7zm4 0h-2V7h2v10zm4 0h-2v-4h2v4z\"/>\n",
              "    </g>\n",
              "</svg>\n",
              "  </button>\n",
              "\n",
              "<style>\n",
              "  .colab-df-quickchart {\n",
              "      --bg-color: #E8F0FE;\n",
              "      --fill-color: #1967D2;\n",
              "      --hover-bg-color: #E2EBFA;\n",
              "      --hover-fill-color: #174EA6;\n",
              "      --disabled-fill-color: #AAA;\n",
              "      --disabled-bg-color: #DDD;\n",
              "  }\n",
              "\n",
              "  [theme=dark] .colab-df-quickchart {\n",
              "      --bg-color: #3B4455;\n",
              "      --fill-color: #D2E3FC;\n",
              "      --hover-bg-color: #434B5C;\n",
              "      --hover-fill-color: #FFFFFF;\n",
              "      --disabled-bg-color: #3B4455;\n",
              "      --disabled-fill-color: #666;\n",
              "  }\n",
              "\n",
              "  .colab-df-quickchart {\n",
              "    background-color: var(--bg-color);\n",
              "    border: none;\n",
              "    border-radius: 50%;\n",
              "    cursor: pointer;\n",
              "    display: none;\n",
              "    fill: var(--fill-color);\n",
              "    height: 32px;\n",
              "    padding: 0;\n",
              "    width: 32px;\n",
              "  }\n",
              "\n",
              "  .colab-df-quickchart:hover {\n",
              "    background-color: var(--hover-bg-color);\n",
              "    box-shadow: 0 1px 2px rgba(60, 64, 67, 0.3), 0 1px 3px 1px rgba(60, 64, 67, 0.15);\n",
              "    fill: var(--button-hover-fill-color);\n",
              "  }\n",
              "\n",
              "  .colab-df-quickchart-complete:disabled,\n",
              "  .colab-df-quickchart-complete:disabled:hover {\n",
              "    background-color: var(--disabled-bg-color);\n",
              "    fill: var(--disabled-fill-color);\n",
              "    box-shadow: none;\n",
              "  }\n",
              "\n",
              "  .colab-df-spinner {\n",
              "    border: 2px solid var(--fill-color);\n",
              "    border-color: transparent;\n",
              "    border-bottom-color: var(--fill-color);\n",
              "    animation:\n",
              "      spin 1s steps(1) infinite;\n",
              "  }\n",
              "\n",
              "  @keyframes spin {\n",
              "    0% {\n",
              "      border-color: transparent;\n",
              "      border-bottom-color: var(--fill-color);\n",
              "      border-left-color: var(--fill-color);\n",
              "    }\n",
              "    20% {\n",
              "      border-color: transparent;\n",
              "      border-left-color: var(--fill-color);\n",
              "      border-top-color: var(--fill-color);\n",
              "    }\n",
              "    30% {\n",
              "      border-color: transparent;\n",
              "      border-left-color: var(--fill-color);\n",
              "      border-top-color: var(--fill-color);\n",
              "      border-right-color: var(--fill-color);\n",
              "    }\n",
              "    40% {\n",
              "      border-color: transparent;\n",
              "      border-right-color: var(--fill-color);\n",
              "      border-top-color: var(--fill-color);\n",
              "    }\n",
              "    60% {\n",
              "      border-color: transparent;\n",
              "      border-right-color: var(--fill-color);\n",
              "    }\n",
              "    80% {\n",
              "      border-color: transparent;\n",
              "      border-right-color: var(--fill-color);\n",
              "      border-bottom-color: var(--fill-color);\n",
              "    }\n",
              "    90% {\n",
              "      border-color: transparent;\n",
              "      border-bottom-color: var(--fill-color);\n",
              "    }\n",
              "  }\n",
              "</style>\n",
              "\n",
              "  <script>\n",
              "    async function quickchart(key) {\n",
              "      const quickchartButtonEl =\n",
              "        document.querySelector('#' + key + ' button');\n",
              "      quickchartButtonEl.disabled = true;  // To prevent multiple clicks.\n",
              "      quickchartButtonEl.classList.add('colab-df-spinner');\n",
              "      try {\n",
              "        const charts = await google.colab.kernel.invokeFunction(\n",
              "            'suggestCharts', [key], {});\n",
              "      } catch (error) {\n",
              "        console.error('Error during call to suggestCharts:', error);\n",
              "      }\n",
              "      quickchartButtonEl.classList.remove('colab-df-spinner');\n",
              "      quickchartButtonEl.classList.add('colab-df-quickchart-complete');\n",
              "    }\n",
              "    (() => {\n",
              "      let quickchartButtonEl =\n",
              "        document.querySelector('#df-581f3d25-d92c-44e4-b013-5fad0e4b15a7 button');\n",
              "      quickchartButtonEl.style.display =\n",
              "        google.colab.kernel.accessAllowed ? 'block' : 'none';\n",
              "    })();\n",
              "  </script>\n",
              "</div>\n",
              "    </div>\n",
              "  </div>\n"
            ],
            "application/vnd.google.colaboratory.intrinsic+json": {
              "type": "dataframe",
              "repr_error": "0"
            }
          },
          "metadata": {},
          "execution_count": 104
        }
      ],
      "source": [
        "df[df.isna().any(axis=1)]"
      ]
    },
    {
      "cell_type": "code",
      "source": [
        "df['Location'].fillna('Unknown', inplace=True) # заполняем пропуски\n",
        "df"
      ],
      "metadata": {
        "colab": {
          "base_uri": "https://localhost:8080/",
          "height": 424
        },
        "id": "Ek4gxTBFYZ-8",
        "outputId": "bac82183-172b-43af-8c62-f3733bbe8e75"
      },
      "execution_count": null,
      "outputs": [
        {
          "output_type": "execute_result",
          "data": {
            "text/plain": [
              "       UserName  ScreenName                      Location     TweetAt  \\\n",
              "0          3800       48752                            UK  16-03-2020   \n",
              "1          3801       48753                     Vagabonds  16-03-2020   \n",
              "2          3802       48754                       Unknown  16-03-2020   \n",
              "3          3803       48755                       Unknown  16-03-2020   \n",
              "4          3804       48756   ÃÂT: 36.319708,-82.363649  16-03-2020   \n",
              "...         ...         ...                           ...         ...   \n",
              "33439     44949       89901                          OHIO  14-04-2020   \n",
              "33440     44950       89902                       Unknown  14-04-2020   \n",
              "33441     44952       89904                       Unknown  14-04-2020   \n",
              "33442     44953       89905                       Unknown  14-04-2020   \n",
              "33443     44955       89907  i love you so much || he/him  14-04-2020   \n",
              "\n",
              "                                           OriginalTweet  Sentiment  \n",
              "0      advice Talk to your neighbours family to excha...          1  \n",
              "1      Coronavirus Australia: Woolworths to give elde...          1  \n",
              "2      My food stock is not the only one which is emp...          1  \n",
              "3      Me, ready to go at supermarket during the #COV...          0  \n",
              "4      As news of the regionÃÂs first confirmed COV...          1  \n",
              "...                                                  ...        ...  \n",
              "33439  I never that weÃÂd be in a situation &amp; w...          1  \n",
              "33440  @MrSilverScott you are definitely my man. I fe...          1  \n",
              "33441  Response to complaint not provided citing COVI...          0  \n",
              "33442  You know itÃÂs getting tough when @KameronWi...          1  \n",
              "33443  @TartiiCat Well new/used Rift S are going for ...          0  \n",
              "\n",
              "[33444 rows x 6 columns]"
            ],
            "text/html": [
              "\n",
              "  <div id=\"df-83b92346-87d3-4d28-ac8c-8728cd57ec32\" class=\"colab-df-container\">\n",
              "    <div>\n",
              "<style scoped>\n",
              "    .dataframe tbody tr th:only-of-type {\n",
              "        vertical-align: middle;\n",
              "    }\n",
              "\n",
              "    .dataframe tbody tr th {\n",
              "        vertical-align: top;\n",
              "    }\n",
              "\n",
              "    .dataframe thead th {\n",
              "        text-align: right;\n",
              "    }\n",
              "</style>\n",
              "<table border=\"1\" class=\"dataframe\">\n",
              "  <thead>\n",
              "    <tr style=\"text-align: right;\">\n",
              "      <th></th>\n",
              "      <th>UserName</th>\n",
              "      <th>ScreenName</th>\n",
              "      <th>Location</th>\n",
              "      <th>TweetAt</th>\n",
              "      <th>OriginalTweet</th>\n",
              "      <th>Sentiment</th>\n",
              "    </tr>\n",
              "  </thead>\n",
              "  <tbody>\n",
              "    <tr>\n",
              "      <th>0</th>\n",
              "      <td>3800</td>\n",
              "      <td>48752</td>\n",
              "      <td>UK</td>\n",
              "      <td>16-03-2020</td>\n",
              "      <td>advice Talk to your neighbours family to excha...</td>\n",
              "      <td>1</td>\n",
              "    </tr>\n",
              "    <tr>\n",
              "      <th>1</th>\n",
              "      <td>3801</td>\n",
              "      <td>48753</td>\n",
              "      <td>Vagabonds</td>\n",
              "      <td>16-03-2020</td>\n",
              "      <td>Coronavirus Australia: Woolworths to give elde...</td>\n",
              "      <td>1</td>\n",
              "    </tr>\n",
              "    <tr>\n",
              "      <th>2</th>\n",
              "      <td>3802</td>\n",
              "      <td>48754</td>\n",
              "      <td>Unknown</td>\n",
              "      <td>16-03-2020</td>\n",
              "      <td>My food stock is not the only one which is emp...</td>\n",
              "      <td>1</td>\n",
              "    </tr>\n",
              "    <tr>\n",
              "      <th>3</th>\n",
              "      <td>3803</td>\n",
              "      <td>48755</td>\n",
              "      <td>Unknown</td>\n",
              "      <td>16-03-2020</td>\n",
              "      <td>Me, ready to go at supermarket during the #COV...</td>\n",
              "      <td>0</td>\n",
              "    </tr>\n",
              "    <tr>\n",
              "      <th>4</th>\n",
              "      <td>3804</td>\n",
              "      <td>48756</td>\n",
              "      <td>ÃÂT: 36.319708,-82.363649</td>\n",
              "      <td>16-03-2020</td>\n",
              "      <td>As news of the regionÃÂs first confirmed COV...</td>\n",
              "      <td>1</td>\n",
              "    </tr>\n",
              "    <tr>\n",
              "      <th>...</th>\n",
              "      <td>...</td>\n",
              "      <td>...</td>\n",
              "      <td>...</td>\n",
              "      <td>...</td>\n",
              "      <td>...</td>\n",
              "      <td>...</td>\n",
              "    </tr>\n",
              "    <tr>\n",
              "      <th>33439</th>\n",
              "      <td>44949</td>\n",
              "      <td>89901</td>\n",
              "      <td>OHIO</td>\n",
              "      <td>14-04-2020</td>\n",
              "      <td>I never that weÃÂd be in a situation &amp;amp; w...</td>\n",
              "      <td>1</td>\n",
              "    </tr>\n",
              "    <tr>\n",
              "      <th>33440</th>\n",
              "      <td>44950</td>\n",
              "      <td>89902</td>\n",
              "      <td>Unknown</td>\n",
              "      <td>14-04-2020</td>\n",
              "      <td>@MrSilverScott you are definitely my man. I fe...</td>\n",
              "      <td>1</td>\n",
              "    </tr>\n",
              "    <tr>\n",
              "      <th>33441</th>\n",
              "      <td>44952</td>\n",
              "      <td>89904</td>\n",
              "      <td>Unknown</td>\n",
              "      <td>14-04-2020</td>\n",
              "      <td>Response to complaint not provided citing COVI...</td>\n",
              "      <td>0</td>\n",
              "    </tr>\n",
              "    <tr>\n",
              "      <th>33442</th>\n",
              "      <td>44953</td>\n",
              "      <td>89905</td>\n",
              "      <td>Unknown</td>\n",
              "      <td>14-04-2020</td>\n",
              "      <td>You know itÃÂs getting tough when @KameronWi...</td>\n",
              "      <td>1</td>\n",
              "    </tr>\n",
              "    <tr>\n",
              "      <th>33443</th>\n",
              "      <td>44955</td>\n",
              "      <td>89907</td>\n",
              "      <td>i love you so much || he/him</td>\n",
              "      <td>14-04-2020</td>\n",
              "      <td>@TartiiCat Well new/used Rift S are going for ...</td>\n",
              "      <td>0</td>\n",
              "    </tr>\n",
              "  </tbody>\n",
              "</table>\n",
              "<p>33444 rows × 6 columns</p>\n",
              "</div>\n",
              "    <div class=\"colab-df-buttons\">\n",
              "\n",
              "  <div class=\"colab-df-container\">\n",
              "    <button class=\"colab-df-convert\" onclick=\"convertToInteractive('df-83b92346-87d3-4d28-ac8c-8728cd57ec32')\"\n",
              "            title=\"Convert this dataframe to an interactive table.\"\n",
              "            style=\"display:none;\">\n",
              "\n",
              "  <svg xmlns=\"http://www.w3.org/2000/svg\" height=\"24px\" viewBox=\"0 -960 960 960\">\n",
              "    <path d=\"M120-120v-720h720v720H120Zm60-500h600v-160H180v160Zm220 220h160v-160H400v160Zm0 220h160v-160H400v160ZM180-400h160v-160H180v160Zm440 0h160v-160H620v160ZM180-180h160v-160H180v160Zm440 0h160v-160H620v160Z\"/>\n",
              "  </svg>\n",
              "    </button>\n",
              "\n",
              "  <style>\n",
              "    .colab-df-container {\n",
              "      display:flex;\n",
              "      gap: 12px;\n",
              "    }\n",
              "\n",
              "    .colab-df-convert {\n",
              "      background-color: #E8F0FE;\n",
              "      border: none;\n",
              "      border-radius: 50%;\n",
              "      cursor: pointer;\n",
              "      display: none;\n",
              "      fill: #1967D2;\n",
              "      height: 32px;\n",
              "      padding: 0 0 0 0;\n",
              "      width: 32px;\n",
              "    }\n",
              "\n",
              "    .colab-df-convert:hover {\n",
              "      background-color: #E2EBFA;\n",
              "      box-shadow: 0px 1px 2px rgba(60, 64, 67, 0.3), 0px 1px 3px 1px rgba(60, 64, 67, 0.15);\n",
              "      fill: #174EA6;\n",
              "    }\n",
              "\n",
              "    .colab-df-buttons div {\n",
              "      margin-bottom: 4px;\n",
              "    }\n",
              "\n",
              "    [theme=dark] .colab-df-convert {\n",
              "      background-color: #3B4455;\n",
              "      fill: #D2E3FC;\n",
              "    }\n",
              "\n",
              "    [theme=dark] .colab-df-convert:hover {\n",
              "      background-color: #434B5C;\n",
              "      box-shadow: 0px 1px 3px 1px rgba(0, 0, 0, 0.15);\n",
              "      filter: drop-shadow(0px 1px 2px rgba(0, 0, 0, 0.3));\n",
              "      fill: #FFFFFF;\n",
              "    }\n",
              "  </style>\n",
              "\n",
              "    <script>\n",
              "      const buttonEl =\n",
              "        document.querySelector('#df-83b92346-87d3-4d28-ac8c-8728cd57ec32 button.colab-df-convert');\n",
              "      buttonEl.style.display =\n",
              "        google.colab.kernel.accessAllowed ? 'block' : 'none';\n",
              "\n",
              "      async function convertToInteractive(key) {\n",
              "        const element = document.querySelector('#df-83b92346-87d3-4d28-ac8c-8728cd57ec32');\n",
              "        const dataTable =\n",
              "          await google.colab.kernel.invokeFunction('convertToInteractive',\n",
              "                                                    [key], {});\n",
              "        if (!dataTable) return;\n",
              "\n",
              "        const docLinkHtml = 'Like what you see? Visit the ' +\n",
              "          '<a target=\"_blank\" href=https://colab.research.google.com/notebooks/data_table.ipynb>data table notebook</a>'\n",
              "          + ' to learn more about interactive tables.';\n",
              "        element.innerHTML = '';\n",
              "        dataTable['output_type'] = 'display_data';\n",
              "        await google.colab.output.renderOutput(dataTable, element);\n",
              "        const docLink = document.createElement('div');\n",
              "        docLink.innerHTML = docLinkHtml;\n",
              "        element.appendChild(docLink);\n",
              "      }\n",
              "    </script>\n",
              "  </div>\n",
              "\n",
              "\n",
              "<div id=\"df-b6c88aca-5125-4651-a9b5-3856f726ea18\">\n",
              "  <button class=\"colab-df-quickchart\" onclick=\"quickchart('df-b6c88aca-5125-4651-a9b5-3856f726ea18')\"\n",
              "            title=\"Suggest charts\"\n",
              "            style=\"display:none;\">\n",
              "\n",
              "<svg xmlns=\"http://www.w3.org/2000/svg\" height=\"24px\"viewBox=\"0 0 24 24\"\n",
              "     width=\"24px\">\n",
              "    <g>\n",
              "        <path d=\"M19 3H5c-1.1 0-2 .9-2 2v14c0 1.1.9 2 2 2h14c1.1 0 2-.9 2-2V5c0-1.1-.9-2-2-2zM9 17H7v-7h2v7zm4 0h-2V7h2v10zm4 0h-2v-4h2v4z\"/>\n",
              "    </g>\n",
              "</svg>\n",
              "  </button>\n",
              "\n",
              "<style>\n",
              "  .colab-df-quickchart {\n",
              "      --bg-color: #E8F0FE;\n",
              "      --fill-color: #1967D2;\n",
              "      --hover-bg-color: #E2EBFA;\n",
              "      --hover-fill-color: #174EA6;\n",
              "      --disabled-fill-color: #AAA;\n",
              "      --disabled-bg-color: #DDD;\n",
              "  }\n",
              "\n",
              "  [theme=dark] .colab-df-quickchart {\n",
              "      --bg-color: #3B4455;\n",
              "      --fill-color: #D2E3FC;\n",
              "      --hover-bg-color: #434B5C;\n",
              "      --hover-fill-color: #FFFFFF;\n",
              "      --disabled-bg-color: #3B4455;\n",
              "      --disabled-fill-color: #666;\n",
              "  }\n",
              "\n",
              "  .colab-df-quickchart {\n",
              "    background-color: var(--bg-color);\n",
              "    border: none;\n",
              "    border-radius: 50%;\n",
              "    cursor: pointer;\n",
              "    display: none;\n",
              "    fill: var(--fill-color);\n",
              "    height: 32px;\n",
              "    padding: 0;\n",
              "    width: 32px;\n",
              "  }\n",
              "\n",
              "  .colab-df-quickchart:hover {\n",
              "    background-color: var(--hover-bg-color);\n",
              "    box-shadow: 0 1px 2px rgba(60, 64, 67, 0.3), 0 1px 3px 1px rgba(60, 64, 67, 0.15);\n",
              "    fill: var(--button-hover-fill-color);\n",
              "  }\n",
              "\n",
              "  .colab-df-quickchart-complete:disabled,\n",
              "  .colab-df-quickchart-complete:disabled:hover {\n",
              "    background-color: var(--disabled-bg-color);\n",
              "    fill: var(--disabled-fill-color);\n",
              "    box-shadow: none;\n",
              "  }\n",
              "\n",
              "  .colab-df-spinner {\n",
              "    border: 2px solid var(--fill-color);\n",
              "    border-color: transparent;\n",
              "    border-bottom-color: var(--fill-color);\n",
              "    animation:\n",
              "      spin 1s steps(1) infinite;\n",
              "  }\n",
              "\n",
              "  @keyframes spin {\n",
              "    0% {\n",
              "      border-color: transparent;\n",
              "      border-bottom-color: var(--fill-color);\n",
              "      border-left-color: var(--fill-color);\n",
              "    }\n",
              "    20% {\n",
              "      border-color: transparent;\n",
              "      border-left-color: var(--fill-color);\n",
              "      border-top-color: var(--fill-color);\n",
              "    }\n",
              "    30% {\n",
              "      border-color: transparent;\n",
              "      border-left-color: var(--fill-color);\n",
              "      border-top-color: var(--fill-color);\n",
              "      border-right-color: var(--fill-color);\n",
              "    }\n",
              "    40% {\n",
              "      border-color: transparent;\n",
              "      border-right-color: var(--fill-color);\n",
              "      border-top-color: var(--fill-color);\n",
              "    }\n",
              "    60% {\n",
              "      border-color: transparent;\n",
              "      border-right-color: var(--fill-color);\n",
              "    }\n",
              "    80% {\n",
              "      border-color: transparent;\n",
              "      border-right-color: var(--fill-color);\n",
              "      border-bottom-color: var(--fill-color);\n",
              "    }\n",
              "    90% {\n",
              "      border-color: transparent;\n",
              "      border-bottom-color: var(--fill-color);\n",
              "    }\n",
              "  }\n",
              "</style>\n",
              "\n",
              "  <script>\n",
              "    async function quickchart(key) {\n",
              "      const quickchartButtonEl =\n",
              "        document.querySelector('#' + key + ' button');\n",
              "      quickchartButtonEl.disabled = true;  // To prevent multiple clicks.\n",
              "      quickchartButtonEl.classList.add('colab-df-spinner');\n",
              "      try {\n",
              "        const charts = await google.colab.kernel.invokeFunction(\n",
              "            'suggestCharts', [key], {});\n",
              "      } catch (error) {\n",
              "        console.error('Error during call to suggestCharts:', error);\n",
              "      }\n",
              "      quickchartButtonEl.classList.remove('colab-df-spinner');\n",
              "      quickchartButtonEl.classList.add('colab-df-quickchart-complete');\n",
              "    }\n",
              "    (() => {\n",
              "      let quickchartButtonEl =\n",
              "        document.querySelector('#df-b6c88aca-5125-4651-a9b5-3856f726ea18 button');\n",
              "      quickchartButtonEl.style.display =\n",
              "        google.colab.kernel.accessAllowed ? 'block' : 'none';\n",
              "    })();\n",
              "  </script>\n",
              "</div>\n",
              "    </div>\n",
              "  </div>\n"
            ],
            "application/vnd.google.colaboratory.intrinsic+json": {
              "type": "dataframe",
              "variable_name": "df",
              "summary": "{\n  \"name\": \"df\",\n  \"rows\": 33444,\n  \"fields\": [\n    {\n      \"column\": \"UserName\",\n      \"properties\": {\n        \"dtype\": \"number\",\n        \"std\": 11875,\n        \"min\": 3800,\n        \"max\": 44955,\n        \"num_unique_values\": 33444,\n        \"samples\": [\n          33995,\n          17124,\n          18421\n        ],\n        \"semantic_type\": \"\",\n        \"description\": \"\"\n      }\n    },\n    {\n      \"column\": \"ScreenName\",\n      \"properties\": {\n        \"dtype\": \"number\",\n        \"std\": 11875,\n        \"min\": 48752,\n        \"max\": 89907,\n        \"num_unique_values\": 33444,\n        \"samples\": [\n          78947,\n          62076,\n          63373\n        ],\n        \"semantic_type\": \"\",\n        \"description\": \"\"\n      }\n    },\n    {\n      \"column\": \"Location\",\n      \"properties\": {\n        \"dtype\": \"category\",\n        \"num_unique_values\": 10465,\n        \"samples\": [\n          \"Kitchener | Ontario | Canada\",\n          \"Wien, \\u00c3\\u0083\\u00c2\\u0096sterreich\",\n          \"Warsaw\"\n        ],\n        \"semantic_type\": \"\",\n        \"description\": \"\"\n      }\n    },\n    {\n      \"column\": \"TweetAt\",\n      \"properties\": {\n        \"dtype\": \"object\",\n        \"num_unique_values\": 30,\n        \"samples\": [\n          \"12-04-2020\",\n          \"31-03-2020\",\n          \"08-04-2020\"\n        ],\n        \"semantic_type\": \"\",\n        \"description\": \"\"\n      }\n    },\n    {\n      \"column\": \"OriginalTweet\",\n      \"properties\": {\n        \"dtype\": \"string\",\n        \"num_unique_values\": 33444,\n        \"samples\": [\n          \"US death toll is way less than estimated. This I hope will bring back consumer confidence #coronavirus #Covid_19 #CoronavirusUSA\",\n          \"We will get through this by people helping people and not stock piling food and toiletries, selfish pricks #Covid_19\",\n          \"#rice prices soar to two-year high, traders blame it on #coronavirus panic buying, writes #YasirWardad https://t.co/hIXzS1DKdo #FE via @febdonline\"\n        ],\n        \"semantic_type\": \"\",\n        \"description\": \"\"\n      }\n    },\n    {\n      \"column\": \"Sentiment\",\n      \"properties\": {\n        \"dtype\": \"number\",\n        \"std\": 0,\n        \"min\": 0,\n        \"max\": 1,\n        \"num_unique_values\": 2,\n        \"samples\": [\n          0,\n          1\n        ],\n        \"semantic_type\": \"\",\n        \"description\": \"\"\n      }\n    }\n  ]\n}"
            }
          },
          "metadata": {},
          "execution_count": 105
        }
      ]
    },
    {
      "cell_type": "code",
      "execution_count": null,
      "metadata": {
        "id": "xSLOA9tIj9Z6"
      },
      "outputs": [],
      "source": [
        "from sklearn.model_selection import train_test_split\n",
        "train, test = train_test_split (df, test_size = 0.3,  random_state=0)\n"
      ]
    },
    {
      "cell_type": "markdown",
      "metadata": {
        "id": "J9RrPUsJlL60"
      },
      "source": [
        "## Токенизация"
      ]
    },
    {
      "cell_type": "markdown",
      "metadata": {
        "id": "2Dz_b7Xopc_R"
      },
      "source": [
        "Построим словарь на основе обучающей выборки и посчитаем количество встреч каждого токена с использованием самой простой токенизации - деления текстов по пробельным символам и приведение токенов в нижний регистр"
      ]
    },
    {
      "cell_type": "code",
      "execution_count": null,
      "metadata": {
        "id": "SFr67WOJphny"
      },
      "outputs": [],
      "source": [
        "tokens = dict()\n",
        "tokenized_words = train['OriginalTweet'].apply(lambda x: x.lower().split())\n",
        "for words in tokenized_words:\n",
        "  for w in words:\n",
        "    tokens[w] = tokens.get(w, 0) + 1"
      ]
    },
    {
      "cell_type": "code",
      "execution_count": null,
      "metadata": {
        "id": "umyENA7EpokD",
        "colab": {
          "base_uri": "https://localhost:8080/"
        },
        "outputId": "e049d3e0-b6d6-4b34-ea01-a205cee6f796"
      },
      "outputs": [
        {
          "output_type": "execute_result",
          "data": {
            "text/plain": [
              "79755"
            ]
          },
          "metadata": {},
          "execution_count": 137
        }
      ],
      "source": [
        "len(tokens)"
      ]
    },
    {
      "cell_type": "markdown",
      "metadata": {
        "id": "0d2G1Z-Qpqkd"
      },
      "source": [
        "Выведем 10 самых популярных токенов с количеством встреч каждого из них."
      ]
    },
    {
      "cell_type": "code",
      "execution_count": null,
      "metadata": {
        "id": "Impi32a_pssg",
        "colab": {
          "base_uri": "https://localhost:8080/"
        },
        "outputId": "98b10165-6a13-46e4-b2f4-a38e5d73c777"
      },
      "outputs": [
        {
          "output_type": "stream",
          "name": "stdout",
          "text": [
            "('the', 26815) ('to', 23373) ('and', 14684) ('of', 13012) ('a', 11737) ('in', 11198) ('for', 8566) ('#coronavirus', 8223) ('is', 7383) ('are', 7050)\n"
          ]
        }
      ],
      "source": [
        "sorted_tokens = sorted(tokens.items(), key = lambda x: -x[1])\n",
        "top = sorted_tokens[:10]\n",
        "print(*top)"
      ]
    },
    {
      "cell_type": "markdown",
      "metadata": {
        "id": "ZtuJCD0ApuFd"
      },
      "source": [
        "**Вывод:** Наиболее популярные слова - предлоги и глаголы-связки из-за грамматических особенностей английского языка и необходимости добавления их в каждое предложение. Также часто встречается хештэг #coronavirus, скорее всего люди писали на злободневную тему во время пандемии"
      ]
    },
    {
      "cell_type": "markdown",
      "metadata": {
        "id": "T7DTQDkWsVYp"
      },
      "source": [
        "Удалим стоп-слова из словаря и выведем новый топ-10 токенов (и количество встреч) по популярности."
      ]
    },
    {
      "cell_type": "code",
      "execution_count": null,
      "metadata": {
        "id": "8csSAdgTsnFx",
        "colab": {
          "base_uri": "https://localhost:8080/"
        },
        "outputId": "ff63d384-4a68-4483-8ae0-97657a6c3983"
      },
      "outputs": [
        {
          "output_type": "stream",
          "name": "stdout",
          "text": [
            "('#coronavirus', 8223) ('prices', 3891) ('food', 3820) ('grocery', 3469) ('supermarket', 3288) ('people', 3175) ('covid-19', 3173) ('store', 3155) ('#covid19', 2471) ('&amp;', 2314)\n"
          ]
        }
      ],
      "source": [
        "import nltk\n",
        "from nltk.corpus import stopwords\n",
        "\n",
        "nltk.download(\"stopwords\", quiet=True)\n",
        "stop_words = set(stopwords.words(\"english\"))\n",
        "filt_tokens = {}\n",
        "for key, val in sorted_tokens:\n",
        "  if key not in stop_words:\n",
        "    filt_tokens[key] = val\n",
        "sorted_filt_tokens = sorted(filt_tokens.items(), key = lambda x: -x[1])\n",
        "print (*sorted_filt_tokens[:10])"
      ]
    },
    {
      "cell_type": "markdown",
      "metadata": {
        "id": "LZH0x2Lzs-Dh"
      },
      "source": [
        "**Вывод:** Теперь появляется больше информации о том, что писали люди. Основные темы касаются пандемии: среди наиболее популярных слов несколько раз повторяется ковид в разных формулировках. А также связанные с ним слова: цены, еда, супермаркеты, магазины, люди. Все передает атмосферу того периода..."
      ]
    },
    {
      "cell_type": "markdown",
      "metadata": {
        "id": "TKSGRyI-uor0"
      },
      "source": [
        "Также выведем 20 самых непопулярных слов"
      ]
    },
    {
      "cell_type": "code",
      "execution_count": null,
      "metadata": {
        "id": "moArbwfvun9t",
        "colab": {
          "base_uri": "https://localhost:8080/"
        },
        "outputId": "be380744-0654-4ff6-8a92-fde5a9b48d72"
      },
      "outputs": [
        {
          "output_type": "stream",
          "name": "stdout",
          "text": [
            "('https://t.co/1m881cwfuv', 1) ('happy..', 1) ('https://t.co/z0intks34x', 1) ('mnuchinã\\x82â\\x92s', 1) ('brink.', 1) ('https://t.co/jmobv8z0u0', 1) (\"university's\", 1) ('teaching.)', 1) ('@catholicpres', 1) ('@catholicuniv', 1) ('https://t.co/evqby035wf', 1) ('https://t.co/riqrhxxeim', 1) ('@@ballardspahrll', 1) ('#aca', 1) ('easier...take', 1) ('ã\\x82â\\x93necessaryã\\x82â\\x94', 1) ('https://t.co/0fmsmlgepm', 1) ('husted:', 1) ('irishman', 1) ('#happystpatricksday!', 1)\n"
          ]
        }
      ],
      "source": [
        "sorted_filt_tokens_min = sorted(filt_tokens.items(), key = lambda x: x[1])\n",
        "print (*sorted_filt_tokens_min[:20])"
      ]
    },
    {
      "cell_type": "markdown",
      "metadata": {
        "id": "uRp3J1gQunlR"
      },
      "source": [
        "**Вывод:** Среди наименее популярных слов те, которые записаны с какими-то символами (восклицательный знак, кавычки, собака, хэштэг) либо же это какие-то ссылки и аббревиатуры. Работать с ними бесполезно, потому что они не несут никакой смысловой нагрузки\n"
      ]
    },
    {
      "cell_type": "markdown",
      "metadata": {
        "id": "wx9LQOSPzvjV"
      },
      "source": [
        "Теперь воспользуемся токенайзером получше - TweetTokenizer из библиотеки nltk. Применим его и посмотрим на топ-10 популярных слов."
      ]
    },
    {
      "cell_type": "code",
      "execution_count": null,
      "metadata": {
        "id": "2G1UkyVxzvFY",
        "colab": {
          "base_uri": "https://localhost:8080/"
        },
        "outputId": "532ec2e2-b319-4845-ce49-aa1207ccb8ca"
      },
      "outputs": [
        {
          "output_type": "execute_result",
          "data": {
            "text/plain": [
              "[('the', 24337),\n",
              " ('.', 24118),\n",
              " ('to', 22933),\n",
              " (',', 17571),\n",
              " ('and', 14354),\n",
              " ('of', 12904),\n",
              " ('a', 11045),\n",
              " ('in', 10573),\n",
              " ('?', 9524),\n",
              " ('for', 8228)]"
            ]
          },
          "metadata": {},
          "execution_count": 143
        }
      ],
      "source": [
        "#TODO\n",
        "from nltk.tokenize import TweetTokenizer\n",
        "\n",
        "tw = TweetTokenizer()\n",
        "tokens ={}\n",
        "tokenized_words = train['OriginalTweet'].apply(lambda x: tw.tokenize(x))\n",
        "for words in tokenized_words:\n",
        "  for w in words:\n",
        "    tokens[w] = tokens.get(w, 0) + 1\n",
        "sorted_tokens = sorted(tokens.items(), key = lambda x: -x[1])\n",
        "sorted_tokens[:10]\n",
        "#top = sorted_tokens[:10]\n",
        "#print(*top)"
      ]
    },
    {
      "cell_type": "markdown",
      "metadata": {
        "id": "50eVUnJN1Zxl"
      },
      "source": [
        "**Вывод:** Состав самых популярных слов почти не изменился, увеличилось лишь количество и добавились знаки препинания - точка и запятая. Это происходит из-за того, что TweetTokenizer выделяет смайлики, хештэги и другие символы в отдельные токены, поэтому они не слипаются со словами. Из-за этого предлоги без знака препинания и с ним считаются как одно слово, очищенное от знака."
      ]
    },
    {
      "cell_type": "markdown",
      "metadata": {
        "id": "1gqQgiMs11bs"
      },
      "source": [
        "Удалим из словаря стоп-слова и пунктуацию, посмотрим на новый топ-10 слов с количеством встреч"
      ]
    },
    {
      "cell_type": "code",
      "source": [
        "#TODO\n",
        "from string import punctuation\n",
        "noise = stopwords.words(\"english\") + list(punctuation)\n",
        "\n",
        "#filt_tokens = {}\n",
        "for word in list(tokens.keys()):\n",
        "    if word in noise:\n",
        "        del tokens[word]\n",
        "sorted_filt_tokens = sorted(tokens.items(), key = lambda x: -x[1])\n",
        "print (*sorted_filt_tokens[:10])"
      ],
      "metadata": {
        "colab": {
          "base_uri": "https://localhost:8080/"
        },
        "id": "ofbmmSq9AQvn",
        "outputId": "da15f52e-4778-441d-ee6f-7f512c122daf"
      },
      "execution_count": null,
      "outputs": [
        {
          "output_type": "stream",
          "name": "stdout",
          "text": [
            "('Â', 7415) ('\\x82', 7311) ('19', 7167) ('#coronavirus', 7143) ('I', 5235) ('\\x92', 4372) ('prices', 4281) ('COVID', 4218) ('food', 3795) ('store', 3691)\n"
          ]
        }
      ]
    },
    {
      "cell_type": "markdown",
      "metadata": {
        "id": "8ZJqXELP_Yxy"
      },
      "source": [
        "**Вывод:** Как и раньше есть слова, относящиеся к ковиду. Помимо этого, есть и что-то не похожее на слова: Â, \\х82,"
      ]
    },
    {
      "cell_type": "markdown",
      "metadata": {
        "id": "rzXjMsSB_kXB"
      },
      "source": [
        "Удалим из словаря токены из одного символа\n",
        "\n",
        "Выведем топ-10 самых популярных и топ-20 непопулярных слов."
      ]
    },
    {
      "cell_type": "code",
      "execution_count": null,
      "metadata": {
        "id": "1695hlkS_1-J",
        "colab": {
          "base_uri": "https://localhost:8080/"
        },
        "outputId": "df498614-0fe4-406a-b429-12cd17e2b665"
      },
      "outputs": [
        {
          "output_type": "stream",
          "name": "stdout",
          "text": [
            "top-10 pop:\n",
            "('19', 7167) ('#coronavirus', 7143) ('I', 5235) ('prices', 4281) ('COVID', 4218) ('food', 3795) ('store', 3691) ('supermarket', 3373) ('grocery', 3083) ('people', 3047)\n"
          ]
        }
      ],
      "source": [
        "for word in list(tokens.keys()):\n",
        "  if len(word) == 1 and ord(word) >= 128:\n",
        "        del tokens[word]\n",
        "sorted_filt_tokens_full = sorted(tokens.items(), key = lambda x: -x[1])\n",
        "print ('top-10 pop:')\n",
        "print (*sorted_filt_tokens_full[:10])"
      ]
    },
    {
      "cell_type": "code",
      "source": [
        "sorted_filt_tokens_min = sorted(filt_tokens.items(), key = lambda x: x[1])\n",
        "print ('top-20 unpop:')\n",
        "print (*sorted_filt_tokens_min[:20])"
      ],
      "metadata": {
        "colab": {
          "base_uri": "https://localhost:8080/"
        },
        "id": "gsK-Vbo30edD",
        "outputId": "b4d7ab03-2ba3-4deb-9408-f83aae5dfc46"
      },
      "execution_count": null,
      "outputs": [
        {
          "output_type": "stream",
          "name": "stdout",
          "text": [
            "top-20 unpop:\n",
            "('https://t.co/1m881cwfuv', 1) ('happy..', 1) ('https://t.co/z0intks34x', 1) ('mnuchinã\\x82â\\x92s', 1) ('brink.', 1) ('https://t.co/jmobv8z0u0', 1) (\"university's\", 1) ('teaching.)', 1) ('@catholicpres', 1) ('@catholicuniv', 1) ('https://t.co/evqby035wf', 1) ('https://t.co/riqrhxxeim', 1) ('@@ballardspahrll', 1) ('#aca', 1) ('easier...take', 1) ('ã\\x82â\\x93necessaryã\\x82â\\x94', 1) ('https://t.co/0fmsmlgepm', 1) ('husted:', 1) ('irishman', 1) ('#happystpatricksday!', 1)\n"
          ]
        }
      ]
    },
    {
      "cell_type": "markdown",
      "metadata": {
        "id": "KzjHAKIlDvc6"
      },
      "source": [
        "**Вывод:** Топы, полученные с помощью Tweet tokenizer имеют почти тот же состав, только нет непонятных симоволов, не похожих на слова. При этом, например, есть символ I, который не особо информативен. Топ лучше тем, что информативных слов теперь больше, но все равно остаются ссылки и слова с другими символами, например, собаками и хэштэгами"
      ]
    },
    {
      "cell_type": "markdown",
      "metadata": {
        "id": "EcDf9_6HB2zm"
      },
      "source": [
        "\n",
        "Выведем топ-10 популярных хештегов с количеством встреч."
      ]
    },
    {
      "cell_type": "code",
      "execution_count": null,
      "metadata": {
        "id": "zk4fygCUBw3l",
        "colab": {
          "base_uri": "https://localhost:8080/"
        },
        "outputId": "9610b4f9-0684-4710-fc4b-469358bc6d64"
      },
      "outputs": [
        {
          "output_type": "stream",
          "name": "stdout",
          "text": [
            "top-10 #:\n",
            "('#coronavirus', 7143) ('#COVID19', 1844) ('#Covid_19', 1463) ('#Coronavirus', 1281) ('#COVID2019', 927) ('#toiletpaper', 657) ('#covid19', 568) ('#COVID', 542) ('#CoronaCrisis', 426) ('#CoronaVirus', 351)\n"
          ]
        }
      ],
      "source": [
        "hash = {}\n",
        "for key, val in sorted_filt_tokens_full:\n",
        "  if '#' in key:\n",
        "    hash[key] = val\n",
        "sorted_hash = sorted(hash.items(), key = lambda x: -x[1])\n",
        "print ('top-10 #:')\n",
        "print (*sorted_hash[:10])\n",
        "\n"
      ]
    },
    {
      "cell_type": "markdown",
      "metadata": {
        "id": "-6NeNWBkDxM7"
      },
      "source": [
        "**Вывод:** Все популяоные хэштэги снова на злободневную тему - различные упоминания ковида, пандемии и вытекающих из этого последствий."
      ]
    },
    {
      "cell_type": "markdown",
      "metadata": {
        "id": "LLYBg7caD5GA"
      },
      "source": [
        "То же самое проделаем для ссылок на сайт https://t.co"
      ]
    },
    {
      "cell_type": "code",
      "execution_count": null,
      "metadata": {
        "id": "MXbm1oeaCK9S",
        "colab": {
          "base_uri": "https://localhost:8080/"
        },
        "outputId": "178da46c-40e8-4f39-d073-559b1b3a48fe"
      },
      "outputs": [
        {
          "output_type": "stream",
          "name": "stdout",
          "text": [
            "top-10 ref:\n",
            "('https://t.co/oXA7SWtoNd', 5) ('https://t.co/gP3EusapL8', 4) ('https://t.co/DefTruI1PfÃ\\x82Â', 3) ('https://t.co/WrLHYzIzAA', 3) ('https://t.co/kuwIpF1KQW', 3) ('https://t.co/zjNRx6dKKN', 3) ('https://t.co/3GBBDpdjat', 3) ('https://t.co/e2ZNXajPre', 3) ('https://t.co/CATKegAyOY', 3) ('https://t.co/G63RP042HO', 3)\n"
          ]
        }
      ],
      "source": [
        "ref = {}\n",
        "for key, val in sorted_filt_tokens_full:\n",
        "  if key.startswith('https://t.co'):\n",
        "    ref[key] = val\n",
        "sorted_ref = sorted(ref.items(), key = lambda x: -x[1])\n",
        "print ('top-10 ref:')\n",
        "print (*sorted_ref[:10])\n"
      ]
    },
    {
      "cell_type": "markdown",
      "metadata": {
        "id": "at6lRYZ8A07N"
      },
      "source": [
        "**Вывод:** Популярность конкретный ссылок гораздо меньше и не сопоставима с популярностью хэштэгов. Скорее всего, информация о ссылке на конкретную страницу не будет информативна"
      ]
    },
    {
      "cell_type": "markdown",
      "metadata": {
        "id": "IOGdUU1kBU1D"
      },
      "source": [
        "Используем опыт предыдущих экспериментов и напишем собственный токенайзер, улучшив TweetTokenizer. Функция tokenize должна:\n",
        "\n",
        "\n",
        "\n",
        "*   Привести текст в нижний регистр\n",
        "*   Применить TweetTokenizer для изначального выделения токенов\n",
        "*   Удалить стоп-слова, пунктуацию, токены из одного символа, с позицией в таблице Unicode 128 и более и ссылки на t.co\n",
        "\n"
      ]
    },
    {
      "cell_type": "code",
      "source": [
        "def custom_tokenizer(text):\n",
        "\n",
        "  tw = TweetTokenizer()\n",
        "  text = text.lower()\n",
        "  tokens = tw.tokenize (text)\n",
        "  tok = []\n",
        "  noise = stopwords.words(\"english\") + list(punctuation)\n",
        "  #tokens = set(tokens) - set(noise)\n",
        "  for token in tokens:\n",
        "    if (len(token) ==1 and ord(token) >= 128)  or  token.startswith('https://t.co') or token  in noise:\n",
        "      tok.append(token)\n",
        "\n",
        "  return set(tokens) - set(tok)"
      ],
      "metadata": {
        "id": "K8iPWpiX2VCg"
      },
      "execution_count": null,
      "outputs": []
    },
    {
      "cell_type": "code",
      "execution_count": null,
      "metadata": {
        "colab": {
          "base_uri": "https://localhost:8080/"
        },
        "id": "XwbgtYkJGYym",
        "outputId": "8800f92f-b05b-48c3-84f1-a3b6cab791a6"
      },
      "outputs": [
        {
          "output_type": "execute_result",
          "data": {
            "text/plain": [
              "{'#sampletext', '@sample_text', 'sample', 'text'}"
            ]
          },
          "metadata": {},
          "execution_count": 153
        }
      ],
      "source": [
        "custom_tokenizer('This is sample text!!!! @Sample_text I, \\x92\\x92 https://t.co/sample  #sampletext')"
      ]
    },
    {
      "cell_type": "markdown",
      "metadata": {
        "id": "wURVABmXHk97"
      },
      "source": [
        "##  Векторизация текстов"
      ]
    },
    {
      "cell_type": "markdown",
      "metadata": {
        "id": "H44iXkoHIQfN"
      },
      "source": [
        "Обучим CountVectorizer с использованием custom_tokenizer в качестве токенайзера."
      ]
    },
    {
      "cell_type": "code",
      "source": [
        "from sklearn.feature_extraction.text import CountVectorizer\n",
        "\n",
        "cv = CountVectorizer(tokenizer=custom_tokenizer)\n",
        "vector = cv.fit_transform(train['OriginalTweet'])\n",
        "\n",
        "print(len(cv.vocabulary_))\n",
        "#vector.toarray()"
      ],
      "metadata": {
        "colab": {
          "base_uri": "https://localhost:8080/"
        },
        "id": "gHn_limQl3BI",
        "outputId": "44e3c64a-bd2c-46aa-d538-c2a374f73cab"
      },
      "execution_count": null,
      "outputs": [
        {
          "output_type": "stream",
          "name": "stdout",
          "text": [
            "45308\n"
          ]
        }
      ]
    },
    {
      "cell_type": "markdown",
      "metadata": {
        "id": "gsfmaSGoItUm"
      },
      "source": [
        "**Вывод:** Полученный словарь оказался меньше почти в 2 раза."
      ]
    },
    {
      "cell_type": "markdown",
      "metadata": {
        "id": "lm6UHNmqKZT0"
      },
      "source": [
        "Посмотрим на какой-нибудь конкретный твитт:"
      ]
    },
    {
      "cell_type": "code",
      "execution_count": null,
      "metadata": {
        "id": "aJVjjfqOJh8m",
        "colab": {
          "base_uri": "https://localhost:8080/"
        },
        "outputId": "674197dc-bdcf-482a-8648-12f304818663"
      },
      "outputs": [
        {
          "output_type": "execute_result",
          "data": {
            "text/plain": [
              "('Nice one @SkyNews lets not panic but show ppl in france queueing for food!!! #CoronavirusOutbreak #COVID2019 brainless!! Ffs',\n",
              " 0)"
            ]
          },
          "metadata": {},
          "execution_count": 155
        }
      ],
      "source": [
        "ind = 9023\n",
        "train.iloc[ind]['OriginalTweet'], train.iloc[ind]['Sentiment']"
      ]
    },
    {
      "cell_type": "markdown",
      "metadata": {
        "id": "PBMIHBI5KdaS"
      },
      "source": [
        "Автор твитта не доволен ситуацией с едой во Франции и текст имеет резко негативную окраску.\n",
        "\n",
        "Применим обученный CountVectorizer для векторизации данного текста, и попытаемся определить самый важный токен и самый неважный токен (токен, компонента которого в векторе максимальна/минимальна, без учета 0)"
      ]
    },
    {
      "cell_type": "code",
      "execution_count": null,
      "metadata": {
        "id": "7NcAllaEKsJj",
        "colab": {
          "base_uri": "https://localhost:8080/"
        },
        "outputId": "ec140cdb-349b-48b7-e5ff-ccb0c4d2c821"
      },
      "outputs": [
        {
          "output_type": "stream",
          "name": "stdout",
          "text": [
            "  (0, 1833)\t1\n",
            "  (0, 2046)\t1\n",
            "  (0, 16658)\t1\n",
            "  (0, 20553)\t1\n",
            "  (0, 26665)\t1\n",
            "  (0, 27042)\t1\n",
            "  (0, 27233)\t1\n",
            "  (0, 31579)\t1\n",
            "  (0, 34079)\t1\n",
            "  (0, 34688)\t1\n",
            "  (0, 35257)\t1\n",
            "  (0, 36413)\t1\n",
            "  (0, 37229)\t1\n",
            "  (0, 39919)\t1\n"
          ]
        }
      ],
      "source": [
        "ind = 9023\n",
        "tweet = train.iloc[ind]['OriginalTweet']\n",
        "tweet_cv = cv.transform ([tweet])\n",
        "#tweet_cv = pd.DataFrame(tweet_cv.toarray(), columns=cv.get_feature_names_out())\n",
        "print(tweet_cv)\n",
        "#print(sorted(cv.vocabulary_.items(), key = lambda x: -x[1])) # количество токенов, которые есть в данном тексте, среди всех текстов"
      ]
    },
    {
      "cell_type": "code",
      "source": [
        "w_cv = {} # вытащим токены и их веса из объекта csr_matrix\n",
        "for i in range (len(tweet_cv.indices)):\n",
        "  w_cv[cv.get_feature_names_out()[(tweet_cv.indices[i])]] = tweet_cv.data[i]\n",
        "for key,val in sorted(w_cv.items(), key = lambda x: -x[1]):\n",
        "  print (f'{key}: {val}')"
      ],
      "metadata": {
        "colab": {
          "base_uri": "https://localhost:8080/"
        },
        "id": "qkzDDvEX8Kb_",
        "outputId": "bc20f19f-a15a-4177-b360-8a60b064bdab"
      },
      "execution_count": null,
      "outputs": [
        {
          "output_type": "stream",
          "name": "stdout",
          "text": [
            "#coronavirusoutbreak: 1\n",
            "#covid2019: 1\n",
            "@skynews: 1\n",
            "brainless: 1\n",
            "ffs: 1\n",
            "food: 1\n",
            "france: 1\n",
            "lets: 1\n",
            "nice: 1\n",
            "one: 1\n",
            "panic: 1\n",
            "ppl: 1\n",
            "queueing: 1\n",
            "show: 1\n"
          ]
        }
      ]
    },
    {
      "cell_type": "markdown",
      "metadata": {
        "id": "TpEsl1k_NF4T"
      },
      "source": [
        "**Вывод:**  Мы получили, что все слова в данном тексте встречаются ровно 1 раз. Такой информации не достаточно для того, чтобы определить важность и неважность токенов"
      ]
    },
    {
      "cell_type": "markdown",
      "metadata": {
        "id": "w4DsEQpLO3J6"
      },
      "source": [
        "Теперь применим TfidfVectorizer и  определим самый важный/неважный токены. Хорошо ли определились, почему?"
      ]
    },
    {
      "cell_type": "code",
      "execution_count": null,
      "metadata": {
        "id": "uSNzdK3ENGB3",
        "colab": {
          "base_uri": "https://localhost:8080/"
        },
        "outputId": "5af97d25-4228-4d71-a9ba-34e50ee16d5e"
      },
      "outputs": [
        {
          "output_type": "stream",
          "name": "stdout",
          "text": [
            "brainless: 0.3867641170466375\n",
            "queueing: 0.35434556333216544\n",
            "ffs: 0.3244741764513268\n",
            "france: 0.32047314046539654\n",
            "@skynews: 0.31042634466284263\n",
            "lets: 0.30121070136861045\n",
            "ppl: 0.2550064610386691\n",
            "nice: 0.2542729176022132\n",
            "show: 0.24406492401820118\n",
            "#coronavirusoutbreak: 0.22584265007428544\n",
            "#covid2019: 0.16825192939361902\n",
            "one: 0.16306722855395073\n",
            "panic: 0.14759470306326164\n",
            "food: 0.11328893069250721\n"
          ]
        }
      ],
      "source": [
        "from sklearn.feature_extraction.text import TfidfVectorizer\n",
        "\n",
        "tfidf_vec = TfidfVectorizer(tokenizer=custom_tokenizer)\n",
        "X = tfidf_vec.fit_transform(train['OriginalTweet'])\n",
        "tweet_t = tfidf_vec.transform([tweet])\n",
        "w_t = {}  # вытащим токены и их веса из объекта csr_matrix\n",
        "for i in range (len(tweet_t.indices)):\n",
        "  w_t[tfidf_vec.get_feature_names_out()[(tweet_t.indices[i])]] = tweet_t.data[i]\n",
        "for key,val in sorted(w_t.items(), key = lambda x: -x[1]):\n",
        "  print (f'{key}: {val}')"
      ]
    },
    {
      "cell_type": "markdown",
      "metadata": {
        "id": "NYao_UhqQADm"
      },
      "source": [
        "**Вывод:** теперь же все веса принадлежат от 0 до 1. Тогда наиболее значимым будет токен, имеющий наибольший по модулю вес. У нас это слово **brainless**, оно редко встречается в других текстах, поэтому для данного твита имеет большой вес. Обратная логика для наименее важного слова **food**, которое часто встречается в других текстах.\n",
        "\n",
        "Действительно, слово **brainless** опредляет негативный характер всего твита, значит, логика в весах есть"
      ]
    },
    {
      "cell_type": "markdown",
      "metadata": {
        "id": "LGRJPqfWSesQ"
      },
      "source": [
        "Найдем какой-нибудь положительно окрашенный твитт, где TfidfVectorizer хорошо (полезно для определения окраски) выделяет важный токен.\n",
        "\n",
        "Явно положительные твитты можно искать при помощи положительных слов (good, great, amazing и т. д.)"
      ]
    },
    {
      "cell_type": "code",
      "execution_count": null,
      "metadata": {
        "id": "bRbQ2CHiSuJI",
        "colab": {
          "base_uri": "https://localhost:8080/",
          "height": 363
        },
        "outputId": "693e1df3-4775-453c-d969-8f56aed3d02e"
      },
      "outputs": [
        {
          "output_type": "execute_result",
          "data": {
            "text/plain": [
              "       UserName  ScreenName            Location     TweetAt  \\\n",
              "11808     18128       63080   Brighton, England  21-03-2020   \n",
              "11382     17603       62555   Greenwich, London  21-03-2020   \n",
              "469        4365       49317           TaÃÂ¯wan  16-03-2020   \n",
              "2734       7106       52058                  UK  18-03-2020   \n",
              "8001      13523       58475      United Kingdom  20-03-2020   \n",
              "24347     33577       78529             Unknown  05-04-2020   \n",
              "28505     38773       83725  Truro, Nova Scotia  08-04-2020   \n",
              "8234      13803       58755             Unknown  20-03-2020   \n",
              "23018     31918       76870   Karachi, Pakistan  04-04-2020   \n",
              "32078     43261       88213        Brooklyn, NY  13-04-2020   \n",
              "\n",
              "                                           OriginalTweet  Sentiment  \n",
              "11808  #CoronaCrisis #cornavirusuk #HelpEachOther can...          1  \n",
              "11382  Back in Blighty and wow how things have change...          1  \n",
              "469    #COVID19 19 A friend of mine in the US works a...          1  \n",
              "2734   Crude Oil is now worth 2001 prices, $20 a barr...          1  \n",
              "8001   Today, we'd love to say a big thank you to all...          1  \n",
              "24347  Massive thanks to @waitrose for my delivery of...          1  \n",
              "28505  We're officially up &amp; running with product...          1  \n",
              "8234   Do something amazing tomorrow, save lives by d...          1  \n",
              "23018  Face Mask (Pack of 5) ÃÂ Meeting the need of...          1  \n",
              "32078  Late at night 2 00 and is amazing how on every...          1  "
            ],
            "text/html": [
              "\n",
              "  <div id=\"df-5eba74ca-2548-41ee-8e72-64a8315cb445\" class=\"colab-df-container\">\n",
              "    <div>\n",
              "<style scoped>\n",
              "    .dataframe tbody tr th:only-of-type {\n",
              "        vertical-align: middle;\n",
              "    }\n",
              "\n",
              "    .dataframe tbody tr th {\n",
              "        vertical-align: top;\n",
              "    }\n",
              "\n",
              "    .dataframe thead th {\n",
              "        text-align: right;\n",
              "    }\n",
              "</style>\n",
              "<table border=\"1\" class=\"dataframe\">\n",
              "  <thead>\n",
              "    <tr style=\"text-align: right;\">\n",
              "      <th></th>\n",
              "      <th>UserName</th>\n",
              "      <th>ScreenName</th>\n",
              "      <th>Location</th>\n",
              "      <th>TweetAt</th>\n",
              "      <th>OriginalTweet</th>\n",
              "      <th>Sentiment</th>\n",
              "    </tr>\n",
              "  </thead>\n",
              "  <tbody>\n",
              "    <tr>\n",
              "      <th>11808</th>\n",
              "      <td>18128</td>\n",
              "      <td>63080</td>\n",
              "      <td>Brighton, England</td>\n",
              "      <td>21-03-2020</td>\n",
              "      <td>#CoronaCrisis #cornavirusuk #HelpEachOther can...</td>\n",
              "      <td>1</td>\n",
              "    </tr>\n",
              "    <tr>\n",
              "      <th>11382</th>\n",
              "      <td>17603</td>\n",
              "      <td>62555</td>\n",
              "      <td>Greenwich, London</td>\n",
              "      <td>21-03-2020</td>\n",
              "      <td>Back in Blighty and wow how things have change...</td>\n",
              "      <td>1</td>\n",
              "    </tr>\n",
              "    <tr>\n",
              "      <th>469</th>\n",
              "      <td>4365</td>\n",
              "      <td>49317</td>\n",
              "      <td>TaÃÂ¯wan</td>\n",
              "      <td>16-03-2020</td>\n",
              "      <td>#COVID19 19 A friend of mine in the US works a...</td>\n",
              "      <td>1</td>\n",
              "    </tr>\n",
              "    <tr>\n",
              "      <th>2734</th>\n",
              "      <td>7106</td>\n",
              "      <td>52058</td>\n",
              "      <td>UK</td>\n",
              "      <td>18-03-2020</td>\n",
              "      <td>Crude Oil is now worth 2001 prices, $20 a barr...</td>\n",
              "      <td>1</td>\n",
              "    </tr>\n",
              "    <tr>\n",
              "      <th>8001</th>\n",
              "      <td>13523</td>\n",
              "      <td>58475</td>\n",
              "      <td>United Kingdom</td>\n",
              "      <td>20-03-2020</td>\n",
              "      <td>Today, we'd love to say a big thank you to all...</td>\n",
              "      <td>1</td>\n",
              "    </tr>\n",
              "    <tr>\n",
              "      <th>24347</th>\n",
              "      <td>33577</td>\n",
              "      <td>78529</td>\n",
              "      <td>Unknown</td>\n",
              "      <td>05-04-2020</td>\n",
              "      <td>Massive thanks to @waitrose for my delivery of...</td>\n",
              "      <td>1</td>\n",
              "    </tr>\n",
              "    <tr>\n",
              "      <th>28505</th>\n",
              "      <td>38773</td>\n",
              "      <td>83725</td>\n",
              "      <td>Truro, Nova Scotia</td>\n",
              "      <td>08-04-2020</td>\n",
              "      <td>We're officially up &amp;amp; running with product...</td>\n",
              "      <td>1</td>\n",
              "    </tr>\n",
              "    <tr>\n",
              "      <th>8234</th>\n",
              "      <td>13803</td>\n",
              "      <td>58755</td>\n",
              "      <td>Unknown</td>\n",
              "      <td>20-03-2020</td>\n",
              "      <td>Do something amazing tomorrow, save lives by d...</td>\n",
              "      <td>1</td>\n",
              "    </tr>\n",
              "    <tr>\n",
              "      <th>23018</th>\n",
              "      <td>31918</td>\n",
              "      <td>76870</td>\n",
              "      <td>Karachi, Pakistan</td>\n",
              "      <td>04-04-2020</td>\n",
              "      <td>Face Mask (Pack of 5) ÃÂ Meeting the need of...</td>\n",
              "      <td>1</td>\n",
              "    </tr>\n",
              "    <tr>\n",
              "      <th>32078</th>\n",
              "      <td>43261</td>\n",
              "      <td>88213</td>\n",
              "      <td>Brooklyn, NY</td>\n",
              "      <td>13-04-2020</td>\n",
              "      <td>Late at night 2 00 and is amazing how on every...</td>\n",
              "      <td>1</td>\n",
              "    </tr>\n",
              "  </tbody>\n",
              "</table>\n",
              "</div>\n",
              "    <div class=\"colab-df-buttons\">\n",
              "\n",
              "  <div class=\"colab-df-container\">\n",
              "    <button class=\"colab-df-convert\" onclick=\"convertToInteractive('df-5eba74ca-2548-41ee-8e72-64a8315cb445')\"\n",
              "            title=\"Convert this dataframe to an interactive table.\"\n",
              "            style=\"display:none;\">\n",
              "\n",
              "  <svg xmlns=\"http://www.w3.org/2000/svg\" height=\"24px\" viewBox=\"0 -960 960 960\">\n",
              "    <path d=\"M120-120v-720h720v720H120Zm60-500h600v-160H180v160Zm220 220h160v-160H400v160Zm0 220h160v-160H400v160ZM180-400h160v-160H180v160Zm440 0h160v-160H620v160ZM180-180h160v-160H180v160Zm440 0h160v-160H620v160Z\"/>\n",
              "  </svg>\n",
              "    </button>\n",
              "\n",
              "  <style>\n",
              "    .colab-df-container {\n",
              "      display:flex;\n",
              "      gap: 12px;\n",
              "    }\n",
              "\n",
              "    .colab-df-convert {\n",
              "      background-color: #E8F0FE;\n",
              "      border: none;\n",
              "      border-radius: 50%;\n",
              "      cursor: pointer;\n",
              "      display: none;\n",
              "      fill: #1967D2;\n",
              "      height: 32px;\n",
              "      padding: 0 0 0 0;\n",
              "      width: 32px;\n",
              "    }\n",
              "\n",
              "    .colab-df-convert:hover {\n",
              "      background-color: #E2EBFA;\n",
              "      box-shadow: 0px 1px 2px rgba(60, 64, 67, 0.3), 0px 1px 3px 1px rgba(60, 64, 67, 0.15);\n",
              "      fill: #174EA6;\n",
              "    }\n",
              "\n",
              "    .colab-df-buttons div {\n",
              "      margin-bottom: 4px;\n",
              "    }\n",
              "\n",
              "    [theme=dark] .colab-df-convert {\n",
              "      background-color: #3B4455;\n",
              "      fill: #D2E3FC;\n",
              "    }\n",
              "\n",
              "    [theme=dark] .colab-df-convert:hover {\n",
              "      background-color: #434B5C;\n",
              "      box-shadow: 0px 1px 3px 1px rgba(0, 0, 0, 0.15);\n",
              "      filter: drop-shadow(0px 1px 2px rgba(0, 0, 0, 0.3));\n",
              "      fill: #FFFFFF;\n",
              "    }\n",
              "  </style>\n",
              "\n",
              "    <script>\n",
              "      const buttonEl =\n",
              "        document.querySelector('#df-5eba74ca-2548-41ee-8e72-64a8315cb445 button.colab-df-convert');\n",
              "      buttonEl.style.display =\n",
              "        google.colab.kernel.accessAllowed ? 'block' : 'none';\n",
              "\n",
              "      async function convertToInteractive(key) {\n",
              "        const element = document.querySelector('#df-5eba74ca-2548-41ee-8e72-64a8315cb445');\n",
              "        const dataTable =\n",
              "          await google.colab.kernel.invokeFunction('convertToInteractive',\n",
              "                                                    [key], {});\n",
              "        if (!dataTable) return;\n",
              "\n",
              "        const docLinkHtml = 'Like what you see? Visit the ' +\n",
              "          '<a target=\"_blank\" href=https://colab.research.google.com/notebooks/data_table.ipynb>data table notebook</a>'\n",
              "          + ' to learn more about interactive tables.';\n",
              "        element.innerHTML = '';\n",
              "        dataTable['output_type'] = 'display_data';\n",
              "        await google.colab.output.renderOutput(dataTable, element);\n",
              "        const docLink = document.createElement('div');\n",
              "        docLink.innerHTML = docLinkHtml;\n",
              "        element.appendChild(docLink);\n",
              "      }\n",
              "    </script>\n",
              "  </div>\n",
              "\n",
              "\n",
              "<div id=\"df-fd04223e-8ca3-4017-ac27-1c20e661a0fd\">\n",
              "  <button class=\"colab-df-quickchart\" onclick=\"quickchart('df-fd04223e-8ca3-4017-ac27-1c20e661a0fd')\"\n",
              "            title=\"Suggest charts\"\n",
              "            style=\"display:none;\">\n",
              "\n",
              "<svg xmlns=\"http://www.w3.org/2000/svg\" height=\"24px\"viewBox=\"0 0 24 24\"\n",
              "     width=\"24px\">\n",
              "    <g>\n",
              "        <path d=\"M19 3H5c-1.1 0-2 .9-2 2v14c0 1.1.9 2 2 2h14c1.1 0 2-.9 2-2V5c0-1.1-.9-2-2-2zM9 17H7v-7h2v7zm4 0h-2V7h2v10zm4 0h-2v-4h2v4z\"/>\n",
              "    </g>\n",
              "</svg>\n",
              "  </button>\n",
              "\n",
              "<style>\n",
              "  .colab-df-quickchart {\n",
              "      --bg-color: #E8F0FE;\n",
              "      --fill-color: #1967D2;\n",
              "      --hover-bg-color: #E2EBFA;\n",
              "      --hover-fill-color: #174EA6;\n",
              "      --disabled-fill-color: #AAA;\n",
              "      --disabled-bg-color: #DDD;\n",
              "  }\n",
              "\n",
              "  [theme=dark] .colab-df-quickchart {\n",
              "      --bg-color: #3B4455;\n",
              "      --fill-color: #D2E3FC;\n",
              "      --hover-bg-color: #434B5C;\n",
              "      --hover-fill-color: #FFFFFF;\n",
              "      --disabled-bg-color: #3B4455;\n",
              "      --disabled-fill-color: #666;\n",
              "  }\n",
              "\n",
              "  .colab-df-quickchart {\n",
              "    background-color: var(--bg-color);\n",
              "    border: none;\n",
              "    border-radius: 50%;\n",
              "    cursor: pointer;\n",
              "    display: none;\n",
              "    fill: var(--fill-color);\n",
              "    height: 32px;\n",
              "    padding: 0;\n",
              "    width: 32px;\n",
              "  }\n",
              "\n",
              "  .colab-df-quickchart:hover {\n",
              "    background-color: var(--hover-bg-color);\n",
              "    box-shadow: 0 1px 2px rgba(60, 64, 67, 0.3), 0 1px 3px 1px rgba(60, 64, 67, 0.15);\n",
              "    fill: var(--button-hover-fill-color);\n",
              "  }\n",
              "\n",
              "  .colab-df-quickchart-complete:disabled,\n",
              "  .colab-df-quickchart-complete:disabled:hover {\n",
              "    background-color: var(--disabled-bg-color);\n",
              "    fill: var(--disabled-fill-color);\n",
              "    box-shadow: none;\n",
              "  }\n",
              "\n",
              "  .colab-df-spinner {\n",
              "    border: 2px solid var(--fill-color);\n",
              "    border-color: transparent;\n",
              "    border-bottom-color: var(--fill-color);\n",
              "    animation:\n",
              "      spin 1s steps(1) infinite;\n",
              "  }\n",
              "\n",
              "  @keyframes spin {\n",
              "    0% {\n",
              "      border-color: transparent;\n",
              "      border-bottom-color: var(--fill-color);\n",
              "      border-left-color: var(--fill-color);\n",
              "    }\n",
              "    20% {\n",
              "      border-color: transparent;\n",
              "      border-left-color: var(--fill-color);\n",
              "      border-top-color: var(--fill-color);\n",
              "    }\n",
              "    30% {\n",
              "      border-color: transparent;\n",
              "      border-left-color: var(--fill-color);\n",
              "      border-top-color: var(--fill-color);\n",
              "      border-right-color: var(--fill-color);\n",
              "    }\n",
              "    40% {\n",
              "      border-color: transparent;\n",
              "      border-right-color: var(--fill-color);\n",
              "      border-top-color: var(--fill-color);\n",
              "    }\n",
              "    60% {\n",
              "      border-color: transparent;\n",
              "      border-right-color: var(--fill-color);\n",
              "    }\n",
              "    80% {\n",
              "      border-color: transparent;\n",
              "      border-right-color: var(--fill-color);\n",
              "      border-bottom-color: var(--fill-color);\n",
              "    }\n",
              "    90% {\n",
              "      border-color: transparent;\n",
              "      border-bottom-color: var(--fill-color);\n",
              "    }\n",
              "  }\n",
              "</style>\n",
              "\n",
              "  <script>\n",
              "    async function quickchart(key) {\n",
              "      const quickchartButtonEl =\n",
              "        document.querySelector('#' + key + ' button');\n",
              "      quickchartButtonEl.disabled = true;  // To prevent multiple clicks.\n",
              "      quickchartButtonEl.classList.add('colab-df-spinner');\n",
              "      try {\n",
              "        const charts = await google.colab.kernel.invokeFunction(\n",
              "            'suggestCharts', [key], {});\n",
              "      } catch (error) {\n",
              "        console.error('Error during call to suggestCharts:', error);\n",
              "      }\n",
              "      quickchartButtonEl.classList.remove('colab-df-spinner');\n",
              "      quickchartButtonEl.classList.add('colab-df-quickchart-complete');\n",
              "    }\n",
              "    (() => {\n",
              "      let quickchartButtonEl =\n",
              "        document.querySelector('#df-fd04223e-8ca3-4017-ac27-1c20e661a0fd button');\n",
              "      quickchartButtonEl.style.display =\n",
              "        google.colab.kernel.accessAllowed ? 'block' : 'none';\n",
              "    })();\n",
              "  </script>\n",
              "</div>\n",
              "    </div>\n",
              "  </div>\n"
            ],
            "application/vnd.google.colaboratory.intrinsic+json": {
              "type": "dataframe",
              "repr_error": "0"
            }
          },
          "metadata": {},
          "execution_count": 160
        }
      ],
      "source": [
        "train[train['OriginalTweet'].apply(lambda x: 'amazing' in x) & (train['Sentiment'] == 1)].sample(10)"
      ]
    },
    {
      "cell_type": "code",
      "source": [
        "train.loc[4583]"
      ],
      "metadata": {
        "colab": {
          "base_uri": "https://localhost:8080/"
        },
        "id": "jhcMUzeYC1dQ",
        "outputId": "5bc25a96-f5d5-48fa-8b1b-c8b127430cfb"
      },
      "execution_count": null,
      "outputs": [
        {
          "output_type": "execute_result",
          "data": {
            "text/plain": [
              "UserName                                                      9362\n",
              "ScreenName                                                   54314\n",
              "Location                                          Moulton, England\n",
              "TweetAt                                                 19-03-2020\n",
              "OriginalTweet    Hearing so many stories of NHS heroes Teachers...\n",
              "Sentiment                                                        1\n",
              "Name: 4583, dtype: object"
            ]
          },
          "metadata": {},
          "execution_count": 161
        }
      ]
    },
    {
      "cell_type": "code",
      "source": [
        "ind = 4583\n",
        "tw = train.loc[ind]['OriginalTweet']\n",
        "tfidf_vec = TfidfVectorizer(tokenizer=custom_tokenizer)\n",
        "vector = tfidf_vec.fit_transform(train['OriginalTweet'])\n",
        "X = tfidf_vec.transform([tw])\n",
        "w_t = {}  # вытащим токены и их веса из объекта csr_matrix\n",
        "for i in range (len(X.indices)):\n",
        "  w_t[tfidf_vec.get_feature_names_out()[(X.indices[i])]] = X.data[i]\n",
        "for key,val in sorted(w_t.items(), key = lambda x: -x[1]):\n",
        "  print (f'{key}: {val}')"
      ],
      "metadata": {
        "id": "jSjbKPCWk87K",
        "colab": {
          "base_uri": "https://localhost:8080/"
        },
        "outputId": "5fd12cec-6193-48f0-a19a-4efecedc4014"
      },
      "execution_count": null,
      "outputs": [
        {
          "output_type": "stream",
          "name": "stdout",
          "text": [
            "superstar: 0.36040813259991145\n",
            "briefly: 0.353455795999061\n",
            "equally: 0.3379944870839889\n",
            "walked: 0.2873115033695429\n",
            "stories: 0.27747989165622566\n",
            "hearing: 0.2766229504309899\n",
            "absolute: 0.2766229504309899\n",
            "teachers: 0.2608802212001542\n",
            "amazing: 0.24395210530514877\n",
            "heroes: 0.22777802274567863\n",
            "nhs: 0.22271560074470118\n",
            "today: 0.16760195326727953\n",
            "many: 0.16635943824006097\n",
            "workers: 0.14772674929367088\n",
            "supermarket: 0.10819401755340155\n"
          ]
        }
      ]
    },
    {
      "cell_type": "markdown",
      "metadata": {
        "id": "JTv9ST2_U6NA"
      },
      "source": [
        "**Вывод:** по положительному токену *amazing* был найден твит. В нем наибольший вес имеют слова *superstar*, *briefly*, *equally*. Они тоже имеют положительный окрас, что и позволяет отнести твит к положительным"
      ]
    },
    {
      "cell_type": "markdown",
      "metadata": {
        "id": "JVEuZm8BHms6"
      },
      "source": [
        "##  Обучение первых моделей"
      ]
    },
    {
      "cell_type": "markdown",
      "metadata": {
        "id": "JADkO3sfXdOG"
      },
      "source": [
        "Применим оба векторайзера для получения матриц с признаками текстов.  Выделим целевую переменную."
      ]
    },
    {
      "cell_type": "code",
      "execution_count": null,
      "metadata": {
        "id": "DguoiXhCX2oN"
      },
      "outputs": [],
      "source": [
        "cv_train = cv.fit_transform(train['OriginalTweet'])\n",
        "t_train = tfidf_vec.fit_transform(train['OriginalTweet'])\n",
        "target_train = train['Sentiment']\n",
        "target_test = test['Sentiment']"
      ]
    },
    {
      "cell_type": "markdown",
      "metadata": {
        "id": "_FX1KSOfYSx4"
      },
      "source": [
        "Обучим логистическую регрессию на векторах из обоих векторайзеров. Посчитаем долю правильных ответов на обучающих и тестовых данных."
      ]
    },
    {
      "cell_type": "code",
      "execution_count": null,
      "metadata": {
        "id": "-Tb3eh8UXJ6v",
        "colab": {
          "base_uri": "https://localhost:8080/"
        },
        "outputId": "f4d2a36a-7650-43ca-9d7b-d3bf6ce4da14"
      },
      "outputs": [
        {
          "output_type": "stream",
          "name": "stdout",
          "text": [
            "CountVectorizer test: 0.8660554116005581\n",
            "CountVectorizer train: 0.982913284920974\n"
          ]
        }
      ],
      "source": [
        "from sklearn.linear_model import LogisticRegression\n",
        "from sklearn.metrics import accuracy_score\n",
        "\n",
        "cv_test = cv.transform(test['OriginalTweet'])\n",
        "clf = LogisticRegression(max_iter=200, random_state=42)\n",
        "clf.fit(cv_train, target_train)\n",
        "pred_cv_train = clf.predict(cv_train)\n",
        "pred_cv = clf.predict(cv_test)\n",
        "cv_accuracy = accuracy_score(target_test, pred_cv)\n",
        "cv_accuracy_train = accuracy_score(target_train, pred_cv_train)\n",
        "print (f'CountVectorizer test: {cv_accuracy}')\n",
        "print (f'CountVectorizer train: {cv_accuracy_train}')"
      ]
    },
    {
      "cell_type": "code",
      "source": [
        "t_test = tfidf_vec.transform(test['OriginalTweet'])\n",
        "clf = LogisticRegression(max_iter=200, random_state=42)\n",
        "clf.fit(t_train, target_train)\n",
        "pred_t = clf.predict(t_test)\n",
        "pred_t_train = clf.predict(t_train)\n",
        "t_accuracy_train = accuracy_score(target_train, pred_t_train)\n",
        "t_accuracy = accuracy_score(target_test, pred_t)\n",
        "print (f'TfidfVectorizer test: {t_accuracy}')\n",
        "print (f'TfidfVectorizer train: {t_accuracy_train}')"
      ],
      "metadata": {
        "colab": {
          "base_uri": "https://localhost:8080/"
        },
        "id": "G0Z-VixugCtd",
        "outputId": "c292aaf2-9332-464c-cfe8-6f084ca73023"
      },
      "execution_count": null,
      "outputs": [
        {
          "output_type": "stream",
          "name": "stdout",
          "text": [
            "TfidfVectorizer test: 0.8527008172214471\n",
            "TfidfVectorizer train: 0.924647586501495\n"
          ]
        }
      ]
    },
    {
      "cell_type": "markdown",
      "source": [
        "**Вывод:** наилучший результат показал CountVectorizer. При этом обе модели обладают высокой долей правильных ответов."
      ],
      "metadata": {
        "id": "8W21OqkZprgq"
      }
    },
    {
      "cell_type": "markdown",
      "metadata": {
        "id": "rSOR1i3mjrys"
      },
      "source": [
        "## Стемминг"
      ]
    },
    {
      "cell_type": "markdown",
      "metadata": {
        "id": "i6ONBWNPjuq-"
      },
      "source": [
        "Для уменьшения словаря можно использовать стемминг.\n",
        "\n",
        "Модифицируем написанный токенайзер, добавив в него стемминг с использованием SnowballStemmer. Обучим Count- и Tfidf- векторайзеры."
      ]
    },
    {
      "cell_type": "code",
      "execution_count": null,
      "metadata": {
        "id": "oVfA2-iMkQBb"
      },
      "outputs": [],
      "source": [
        "from nltk.stem.snowball import SnowballStemmer\n",
        "def custom_stem_tokenizer(text):\n",
        "  stemmer = SnowballStemmer(\"english\")\n",
        "  tokenized_words = [w for w in custom_tokenizer(text)]\n",
        "  tokens = [stemmer.stem(w) for w in tokenized_words]\n",
        "  return tokens"
      ]
    },
    {
      "cell_type": "code",
      "execution_count": null,
      "metadata": {
        "colab": {
          "base_uri": "https://localhost:8080/"
        },
        "id": "9QmrjYtqnlPd",
        "outputId": "a9557772-ce74-43f5-b7e8-c09774b8ecea"
      },
      "outputs": [
        {
          "output_type": "execute_result",
          "data": {
            "text/plain": [
              "['@sample_text', 'stem', 'check', 'sampl', 'text', '#sampletext', 'word', 'ad']"
            ]
          },
          "metadata": {},
          "execution_count": 168
        }
      ],
      "source": [
        "custom_stem_tokenizer('This is sample text!!!! @Sample_text I, \\x92\\x92 https://t.co/sample  #sampletext adding more words to check stemming')"
      ]
    },
    {
      "cell_type": "code",
      "execution_count": null,
      "metadata": {
        "colab": {
          "base_uri": "https://localhost:8080/"
        },
        "id": "zAvUTmaplzOS",
        "outputId": "b4ffe263-8b20-44c8-ade4-4b763c837073"
      },
      "outputs": [
        {
          "output_type": "stream",
          "name": "stdout",
          "text": [
            "36652\n"
          ]
        }
      ],
      "source": [
        "cv_stem = CountVectorizer(tokenizer = custom_stem_tokenizer)\n",
        "vector = cv_stem.fit_transform(train['OriginalTweet'])\n",
        "print(len(cv_stem.vocabulary_))"
      ]
    },
    {
      "cell_type": "code",
      "source": [
        "tf_idf_stem = TfidfVectorizer(tokenizer = custom_stem_tokenizer )\n",
        "vector = tf_idf_stem.fit_transform(train['OriginalTweet'])\n",
        "print(len(tf_idf_stem.vocabulary_))"
      ],
      "metadata": {
        "colab": {
          "base_uri": "https://localhost:8080/"
        },
        "id": "nnnm_J_Nkauk",
        "outputId": "8c89bf2e-7e0e-4c26-a225-8fd8d4f23c8e"
      },
      "execution_count": null,
      "outputs": [
        {
          "output_type": "stream",
          "name": "stdout",
          "text": [
            "36652\n"
          ]
        }
      ]
    },
    {
      "cell_type": "markdown",
      "metadata": {
        "id": "Oyzs5TaAoHP6"
      },
      "source": [
        "**Вывод:** размер словаря стал еще меньше. Это логично, поскольку это стемминг своего рода фильтр, делающий из разных грамматических форм слова одинаковые токены"
      ]
    },
    {
      "cell_type": "markdown",
      "metadata": {
        "id": "1OkncHI8oRmd"
      },
      "source": [
        "Обучим логистическую регрессию с использованием обоих векторайзеров."
      ]
    },
    {
      "cell_type": "code",
      "execution_count": null,
      "metadata": {
        "id": "ykZJPphEoZ5W",
        "colab": {
          "base_uri": "https://localhost:8080/"
        },
        "outputId": "9e2b3e95-162e-435e-d35b-7fa6ea738f82"
      },
      "outputs": [
        {
          "output_type": "stream",
          "name": "stdout",
          "text": [
            "CountVectorizer test: 0.8666533785130556\n",
            "CountVectorizer train: 0.9692439128577531\n"
          ]
        }
      ],
      "source": [
        "cv_train = cv_stem.fit_transform(train['OriginalTweet'])\n",
        "cv_test = cv_stem.transform(test['OriginalTweet'])\n",
        "clf = LogisticRegression(max_iter=200, random_state=42)\n",
        "clf.fit(cv_train, target_train)\n",
        "pred_cv_train = clf.predict(cv_train)\n",
        "pred_cv = clf.predict(cv_test)\n",
        "cv_accuracy = accuracy_score(target_test, pred_cv)\n",
        "cv_accuracy_train = accuracy_score(target_train, pred_cv_train)\n",
        "print (f'CountVectorizer test: {cv_accuracy}')\n",
        "print (f'CountVectorizer train: {cv_accuracy_train}')"
      ]
    },
    {
      "cell_type": "code",
      "source": [
        "t_train = tf_idf_stem.fit_transform(train['OriginalTweet'])\n",
        "t_test = tf_idf_stem.transform(test['OriginalTweet'])\n",
        "clf = LogisticRegression(max_iter=200, random_state=42)\n",
        "clf.fit(t_train, target_train)\n",
        "pred_t = clf.predict(t_test)\n",
        "pred_t_train = clf.predict(t_train)\n",
        "t_accuracy_train = accuracy_score(target_train, pred_t_train)\n",
        "t_accuracy = accuracy_score(target_test, pred_t)\n",
        "print (f'TfidfVectorizer test: {t_accuracy}')\n",
        "print (f'TfidfVectorizer train: {t_accuracy_train}')"
      ],
      "metadata": {
        "colab": {
          "base_uri": "https://localhost:8080/"
        },
        "id": "ezeQQCqdnHhl",
        "outputId": "7952604e-ec44-4e8f-bc9b-b3bea1c1584c"
      },
      "execution_count": null,
      "outputs": [
        {
          "output_type": "stream",
          "name": "stdout",
          "text": [
            "TfidfVectorizer test: 0.8567869244568467\n",
            "TfidfVectorizer train: 0.9156770610850065\n"
          ]
        }
      ]
    },
    {
      "cell_type": "markdown",
      "metadata": {
        "id": "bCRlrODro0h8"
      },
      "source": [
        "**Вывод:** качество моделей на тесте практически не изменилось, на трейне упало, значит, применять стемминг не имеет смысла"
      ]
    },
    {
      "cell_type": "markdown",
      "metadata": {
        "id": "hYWGQNEDqLC-"
      },
      "source": [
        "## Работа с частотами"
      ]
    },
    {
      "cell_type": "markdown",
      "metadata": {
        "id": "8Hq-tl5mqUSn"
      },
      "source": [
        "Еще один способ уменьшить количество признаков - это использовать параметры min_df и max_df при построении векторайзера  эти параметры помогают ограничить требуемую частоту встречаемости токена в документах.\n",
        "\n",
        "\n"
      ]
    },
    {
      "cell_type": "markdown",
      "metadata": {
        "id": "m1SiD4DE3WZ2"
      },
      "source": [
        "Подберем max_df такой, что размер словаря будет 36651 (на 1 меньше, чем было)."
      ]
    },
    {
      "cell_type": "code",
      "source": [
        "cv_df = CountVectorizer(tokenizer=custom_stem_tokenizer,\n",
        "                        max_df=0.3\n",
        "                        ).fit(\n",
        "                            train['OriginalTweet']\n",
        "                            )\n",
        "print(len(cv_df.vocabulary_))"
      ],
      "metadata": {
        "colab": {
          "base_uri": "https://localhost:8080/"
        },
        "id": "o3YLb8PViExb",
        "outputId": "66dc4675-f4a0-4c6e-e5d4-268ced99d430"
      },
      "execution_count": null,
      "outputs": [
        {
          "output_type": "stream",
          "name": "stdout",
          "text": [
            "36651\n"
          ]
        }
      ]
    },
    {
      "cell_type": "markdown",
      "metadata": {
        "id": "UdZYoGZR4UsA"
      },
      "source": [
        "**Вывод:** параметр получился небольшой, поскольку он отвечает за максимальную долю текстов, в которых встречается токен. Поэтому, чтобы отбросить 1 токен, нужно ставить небольшое значение параметра, ведь слова, встречающиеся почти в каждом предложении - stop words и punctuations уже были отброшены. Интуитивно, очень маловероятно, что какое-либо другое слово будет встречаться почти в каждом предложении."
      ]
    },
    {
      "cell_type": "markdown",
      "metadata": {
        "id": "_gRIUaB1u32f"
      },
      "source": [
        "Подберем min_df  в CountVectorizer таким образом, чтобы размер словаря был 3700 токенов (при использовании токенайзера со стеммингом), а качество осталось таким же, как и было."
      ]
    },
    {
      "cell_type": "code",
      "execution_count": null,
      "metadata": {
        "colab": {
          "base_uri": "https://localhost:8080/"
        },
        "id": "kSnMJkn9XmsT",
        "outputId": "9447c606-d0ca-483b-eb10-5c4691a5438f"
      },
      "outputs": [
        {
          "output_type": "stream",
          "name": "stdout",
          "text": [
            "3700\n"
          ]
        }
      ],
      "source": [
        "cv_df = CountVectorizer(tokenizer=custom_stem_tokenizer, max_df=1.0,\n",
        "                        min_df=0.000435\n",
        "                        ).fit(\n",
        "                            train['OriginalTweet']\n",
        "                            )\n",
        "print(len(cv_df.vocabulary_))"
      ]
    },
    {
      "cell_type": "code",
      "source": [
        "CV = CountVectorizer(tokenizer=custom_stem_tokenizer,\n",
        "                        min_df=0.000435\n",
        "                        )\n",
        "cv_train = CV.fit_transform(train['OriginalTweet'])\n",
        "cv_test = CV.transform(test['OriginalTweet'])\n",
        "clf = LogisticRegression(max_iter=200, random_state=42)\n",
        "clf.fit(cv_train, target_train)\n",
        "pred_cv_train = clf.predict(cv_train)\n",
        "pred_cv = clf.predict(cv_test)\n",
        "cv_accuracy = accuracy_score(target_test, pred_cv)\n",
        "cv_accuracy_train = accuracy_score(target_train, pred_cv_train)\n",
        "print (f'CountVectorizer test: {cv_accuracy}')\n",
        "print (f'CountVectorizer train: {cv_accuracy_train}')"
      ],
      "metadata": {
        "id": "tyEpkJUkjnuK",
        "colab": {
          "base_uri": "https://localhost:8080/"
        },
        "outputId": "0315cade-540f-4440-922e-79d5c4bb1975"
      },
      "execution_count": null,
      "outputs": [
        {
          "output_type": "stream",
          "name": "stdout",
          "text": [
            "CountVectorizer test: 0.8652581223838948\n",
            "CountVectorizer train: 0.9260145237078172\n"
          ]
        }
      ]
    },
    {
      "cell_type": "markdown",
      "metadata": {
        "id": "3fGYpUIZx0fk"
      },
      "source": [
        "**Вывод:** параметр min_df должен быть очень маленьким, чтобы получить такой размер словаря, при этом качетсво не потерялось. Это говорит о том, что редко встречающиеся слова не влияют на обучение модели, поскольку они незначимы"
      ]
    },
    {
      "cell_type": "markdown",
      "source": [
        "В предыдущих заданиях признаки не скалировались. Отскалируем данные (при словаре размера 3.7 тысяч, векторизованные CountVectorizer), обучим логистическую регрессию, посмотрим на качество и выведем `berplot` содержащий по 10 токенов, с наибольшим по модулю положительными/отрицательными весами."
      ],
      "metadata": {
        "id": "Gx_h_-inKbBl"
      }
    },
    {
      "cell_type": "code",
      "source": [
        "from sklearn.preprocessing import StandardScaler\n",
        "scaler = StandardScaler(with_mean=False)\n",
        "cv_train = scaler.fit_transform(cv_train)\n",
        "cv_test = scaler.transform(cv_test)\n",
        "\n",
        "clf = LogisticRegression(max_iter=200, random_state=42)\n",
        "clf.fit(cv_train, target_train)\n",
        "pred_cv_train = clf.predict(cv_train)\n",
        "pred_cv = clf.predict(cv_test)\n",
        "cv_accuracy = accuracy_score(target_test, pred_cv)\n",
        "cv_accuracy_train = accuracy_score(target_train, pred_cv_train)\n",
        "print (f'CountVectorizer test: {cv_accuracy}')\n",
        "print (f'CountVectorizer train: {cv_accuracy_train}')"
      ],
      "metadata": {
        "id": "KBATXJX6LG9q",
        "colab": {
          "base_uri": "https://localhost:8080/"
        },
        "outputId": "0972492f-c3f9-4513-e392-7cb2d387db36"
      },
      "execution_count": null,
      "outputs": [
        {
          "output_type": "stream",
          "name": "stdout",
          "text": [
            "CountVectorizer test: 0.8424357185569065\n",
            "CountVectorizer train: 0.9396838957710381\n"
          ]
        }
      ]
    },
    {
      "cell_type": "markdown",
      "source": [
        "**Вывод:** качество немного упало относительно базовой модели"
      ],
      "metadata": {
        "id": "FDVyVxUmfRRj"
      }
    },
    {
      "cell_type": "code",
      "source": [
        "coef = clf.coef_[0]\n",
        "features = CV.get_feature_names_out()\n",
        "token_weights = dict(zip(features, coef))\n",
        "top10_tokens = []\n",
        "top10_weights = []\n",
        "for key, val in sorted(token_weights.items(), key = lambda x: -abs(x[1])):\n",
        "  top10_tokens.append(key)\n",
        "  top10_weights.append(val)\n",
        "#print (top10_weights[:10])\n",
        "#print (top10_tokens[:10])\n",
        "sns.barplot(x=top10_tokens[:10], y=top10_weights[:10], color = 'b')\n",
        "plt.xlabel('Tokens')\n",
        "plt.ylabel('Weights')\n",
        "plt.title('Top - 10 tokens', fontweight = 'bold')\n",
        "plt.show()"
      ],
      "metadata": {
        "colab": {
          "base_uri": "https://localhost:8080/",
          "height": 472
        },
        "id": "hUW3OExfQvVM",
        "outputId": "f1bdf61a-84b6-43b5-cb71-babf4cbc5cb2"
      },
      "execution_count": null,
      "outputs": [
        {
          "output_type": "display_data",
          "data": {
            "text/plain": [
              "<Figure size 640x480 with 1 Axes>"
            ],
            "image/png": "[encoded data removed]"
          },
          "metadata": {}
        }
      ]
    },
    {
      "cell_type": "markdown",
      "source": [
        "**Вывод:** Полученные токены сильнее всего влияют на сентимент. Получилось вполне логично: слова паника, кризис, скам являются негативными и делают отзыв скорее негативным. И наоборот, такие слова как помощь, бесплатно, лучший, лайк делают добавляют в отзыв позитива."
      ],
      "metadata": {
        "id": "ThcEfzY1LHET"
      }
    },
    {
      "cell_type": "markdown",
      "metadata": {
        "id": "ktJVOdrIHq7B"
      },
      "source": [
        "\n",
        "\n",
        "## Другие признаки"
      ]
    },
    {
      "cell_type": "markdown",
      "metadata": {
        "id": "Yt3jRCZ2H0Og"
      },
      "source": [
        "Мы были сконцентрированы на работе с текстами твиттов и не использовали другие признаки - имена пользователя, дату и местоположение"
      ]
    },
    {
      "cell_type": "markdown",
      "metadata": {
        "id": "52wjewCCo_di"
      },
      "source": [
        "Изучим признаки UserName и ScreenName."
      ]
    },
    {
      "cell_type": "markdown",
      "source": [
        "**Гипотеза:** данные признаки могут быть полезны, если один и тот же пользователь пишет твиты с одной окраской: только позитивные или негативные. Проверим это"
      ],
      "metadata": {
        "id": "G_4WKKK95WyF"
      }
    },
    {
      "cell_type": "code",
      "execution_count": null,
      "metadata": {
        "id": "63thouYZptj6",
        "colab": {
          "base_uri": "https://localhost:8080/",
          "height": 175
        },
        "outputId": "8de9a42f-9626-4c18-c649-ee645e2f84b4"
      },
      "outputs": [
        {
          "output_type": "execute_result",
          "data": {
            "text/plain": [
              "       UserName  ScreenName          Location     TweetAt  \\\n",
              "12177     18568       63520               ??   22-03-2020   \n",
              "32914     44274       89226           Unknown  13-04-2020   \n",
              "16673     24098       69050  Bengaluru, India  24-03-2020   \n",
              "21168     29616       74568     United States  01-04-2020   \n",
              "\n",
              "                                           OriginalTweet  Sentiment  \n",
              "12177  This whole COVID 19 panic buying and self quar...          0  \n",
              "32914  Things I miss about normal life:\\r\\r\\n-Seeing ...          1  \n",
              "16673  @nimmasuresh I am really appreciate  your work...          1  \n",
              "21168  Warning from the @FTC: Want to get your #Coron...          1  "
            ],
            "text/html": [
              "\n",
              "  <div id=\"df-97186a5e-b862-4f65-a33b-9b8d4c991332\" class=\"colab-df-container\">\n",
              "    <div>\n",
              "<style scoped>\n",
              "    .dataframe tbody tr th:only-of-type {\n",
              "        vertical-align: middle;\n",
              "    }\n",
              "\n",
              "    .dataframe tbody tr th {\n",
              "        vertical-align: top;\n",
              "    }\n",
              "\n",
              "    .dataframe thead th {\n",
              "        text-align: right;\n",
              "    }\n",
              "</style>\n",
              "<table border=\"1\" class=\"dataframe\">\n",
              "  <thead>\n",
              "    <tr style=\"text-align: right;\">\n",
              "      <th></th>\n",
              "      <th>UserName</th>\n",
              "      <th>ScreenName</th>\n",
              "      <th>Location</th>\n",
              "      <th>TweetAt</th>\n",
              "      <th>OriginalTweet</th>\n",
              "      <th>Sentiment</th>\n",
              "    </tr>\n",
              "  </thead>\n",
              "  <tbody>\n",
              "    <tr>\n",
              "      <th>12177</th>\n",
              "      <td>18568</td>\n",
              "      <td>63520</td>\n",
              "      <td>??</td>\n",
              "      <td>22-03-2020</td>\n",
              "      <td>This whole COVID 19 panic buying and self quar...</td>\n",
              "      <td>0</td>\n",
              "    </tr>\n",
              "    <tr>\n",
              "      <th>32914</th>\n",
              "      <td>44274</td>\n",
              "      <td>89226</td>\n",
              "      <td>Unknown</td>\n",
              "      <td>13-04-2020</td>\n",
              "      <td>Things I miss about normal life:\\r\\r\\n-Seeing ...</td>\n",
              "      <td>1</td>\n",
              "    </tr>\n",
              "    <tr>\n",
              "      <th>16673</th>\n",
              "      <td>24098</td>\n",
              "      <td>69050</td>\n",
              "      <td>Bengaluru, India</td>\n",
              "      <td>24-03-2020</td>\n",
              "      <td>@nimmasuresh I am really appreciate  your work...</td>\n",
              "      <td>1</td>\n",
              "    </tr>\n",
              "    <tr>\n",
              "      <th>21168</th>\n",
              "      <td>29616</td>\n",
              "      <td>74568</td>\n",
              "      <td>United States</td>\n",
              "      <td>01-04-2020</td>\n",
              "      <td>Warning from the @FTC: Want to get your #Coron...</td>\n",
              "      <td>1</td>\n",
              "    </tr>\n",
              "  </tbody>\n",
              "</table>\n",
              "</div>\n",
              "    <div class=\"colab-df-buttons\">\n",
              "\n",
              "  <div class=\"colab-df-container\">\n",
              "    <button class=\"colab-df-convert\" onclick=\"convertToInteractive('df-97186a5e-b862-4f65-a33b-9b8d4c991332')\"\n",
              "            title=\"Convert this dataframe to an interactive table.\"\n",
              "            style=\"display:none;\">\n",
              "\n",
              "  <svg xmlns=\"http://www.w3.org/2000/svg\" height=\"24px\" viewBox=\"0 -960 960 960\">\n",
              "    <path d=\"M120-120v-720h720v720H120Zm60-500h600v-160H180v160Zm220 220h160v-160H400v160Zm0 220h160v-160H400v160ZM180-400h160v-160H180v160Zm440 0h160v-160H620v160ZM180-180h160v-160H180v160Zm440 0h160v-160H620v160Z\"/>\n",
              "  </svg>\n",
              "    </button>\n",
              "\n",
              "  <style>\n",
              "    .colab-df-container {\n",
              "      display:flex;\n",
              "      gap: 12px;\n",
              "    }\n",
              "\n",
              "    .colab-df-convert {\n",
              "      background-color: #E8F0FE;\n",
              "      border: none;\n",
              "      border-radius: 50%;\n",
              "      cursor: pointer;\n",
              "      display: none;\n",
              "      fill: #1967D2;\n",
              "      height: 32px;\n",
              "      padding: 0 0 0 0;\n",
              "      width: 32px;\n",
              "    }\n",
              "\n",
              "    .colab-df-convert:hover {\n",
              "      background-color: #E2EBFA;\n",
              "      box-shadow: 0px 1px 2px rgba(60, 64, 67, 0.3), 0px 1px 3px 1px rgba(60, 64, 67, 0.15);\n",
              "      fill: #174EA6;\n",
              "    }\n",
              "\n",
              "    .colab-df-buttons div {\n",
              "      margin-bottom: 4px;\n",
              "    }\n",
              "\n",
              "    [theme=dark] .colab-df-convert {\n",
              "      background-color: #3B4455;\n",
              "      fill: #D2E3FC;\n",
              "    }\n",
              "\n",
              "    [theme=dark] .colab-df-convert:hover {\n",
              "      background-color: #434B5C;\n",
              "      box-shadow: 0px 1px 3px 1px rgba(0, 0, 0, 0.15);\n",
              "      filter: drop-shadow(0px 1px 2px rgba(0, 0, 0, 0.3));\n",
              "      fill: #FFFFFF;\n",
              "    }\n",
              "  </style>\n",
              "\n",
              "    <script>\n",
              "      const buttonEl =\n",
              "        document.querySelector('#df-97186a5e-b862-4f65-a33b-9b8d4c991332 button.colab-df-convert');\n",
              "      buttonEl.style.display =\n",
              "        google.colab.kernel.accessAllowed ? 'block' : 'none';\n",
              "\n",
              "      async function convertToInteractive(key) {\n",
              "        const element = document.querySelector('#df-97186a5e-b862-4f65-a33b-9b8d4c991332');\n",
              "        const dataTable =\n",
              "          await google.colab.kernel.invokeFunction('convertToInteractive',\n",
              "                                                    [key], {});\n",
              "        if (!dataTable) return;\n",
              "\n",
              "        const docLinkHtml = 'Like what you see? Visit the ' +\n",
              "          '<a target=\"_blank\" href=https://colab.research.google.com/notebooks/data_table.ipynb>data table notebook</a>'\n",
              "          + ' to learn more about interactive tables.';\n",
              "        element.innerHTML = '';\n",
              "        dataTable['output_type'] = 'display_data';\n",
              "        await google.colab.output.renderOutput(dataTable, element);\n",
              "        const docLink = document.createElement('div');\n",
              "        docLink.innerHTML = docLinkHtml;\n",
              "        element.appendChild(docLink);\n",
              "      }\n",
              "    </script>\n",
              "  </div>\n",
              "\n",
              "\n",
              "<div id=\"df-e6ebc3d5-a406-4b2c-8d94-19a15c1486e6\">\n",
              "  <button class=\"colab-df-quickchart\" onclick=\"quickchart('df-e6ebc3d5-a406-4b2c-8d94-19a15c1486e6')\"\n",
              "            title=\"Suggest charts\"\n",
              "            style=\"display:none;\">\n",
              "\n",
              "<svg xmlns=\"http://www.w3.org/2000/svg\" height=\"24px\"viewBox=\"0 0 24 24\"\n",
              "     width=\"24px\">\n",
              "    <g>\n",
              "        <path d=\"M19 3H5c-1.1 0-2 .9-2 2v14c0 1.1.9 2 2 2h14c1.1 0 2-.9 2-2V5c0-1.1-.9-2-2-2zM9 17H7v-7h2v7zm4 0h-2V7h2v10zm4 0h-2v-4h2v4z\"/>\n",
              "    </g>\n",
              "</svg>\n",
              "  </button>\n",
              "\n",
              "<style>\n",
              "  .colab-df-quickchart {\n",
              "      --bg-color: #E8F0FE;\n",
              "      --fill-color: #1967D2;\n",
              "      --hover-bg-color: #E2EBFA;\n",
              "      --hover-fill-color: #174EA6;\n",
              "      --disabled-fill-color: #AAA;\n",
              "      --disabled-bg-color: #DDD;\n",
              "  }\n",
              "\n",
              "  [theme=dark] .colab-df-quickchart {\n",
              "      --bg-color: #3B4455;\n",
              "      --fill-color: #D2E3FC;\n",
              "      --hover-bg-color: #434B5C;\n",
              "      --hover-fill-color: #FFFFFF;\n",
              "      --disabled-bg-color: #3B4455;\n",
              "      --disabled-fill-color: #666;\n",
              "  }\n",
              "\n",
              "  .colab-df-quickchart {\n",
              "    background-color: var(--bg-color);\n",
              "    border: none;\n",
              "    border-radius: 50%;\n",
              "    cursor: pointer;\n",
              "    display: none;\n",
              "    fill: var(--fill-color);\n",
              "    height: 32px;\n",
              "    padding: 0;\n",
              "    width: 32px;\n",
              "  }\n",
              "\n",
              "  .colab-df-quickchart:hover {\n",
              "    background-color: var(--hover-bg-color);\n",
              "    box-shadow: 0 1px 2px rgba(60, 64, 67, 0.3), 0 1px 3px 1px rgba(60, 64, 67, 0.15);\n",
              "    fill: var(--button-hover-fill-color);\n",
              "  }\n",
              "\n",
              "  .colab-df-quickchart-complete:disabled,\n",
              "  .colab-df-quickchart-complete:disabled:hover {\n",
              "    background-color: var(--disabled-bg-color);\n",
              "    fill: var(--disabled-fill-color);\n",
              "    box-shadow: none;\n",
              "  }\n",
              "\n",
              "  .colab-df-spinner {\n",
              "    border: 2px solid var(--fill-color);\n",
              "    border-color: transparent;\n",
              "    border-bottom-color: var(--fill-color);\n",
              "    animation:\n",
              "      spin 1s steps(1) infinite;\n",
              "  }\n",
              "\n",
              "  @keyframes spin {\n",
              "    0% {\n",
              "      border-color: transparent;\n",
              "      border-bottom-color: var(--fill-color);\n",
              "      border-left-color: var(--fill-color);\n",
              "    }\n",
              "    20% {\n",
              "      border-color: transparent;\n",
              "      border-left-color: var(--fill-color);\n",
              "      border-top-color: var(--fill-color);\n",
              "    }\n",
              "    30% {\n",
              "      border-color: transparent;\n",
              "      border-left-color: var(--fill-color);\n",
              "      border-top-color: var(--fill-color);\n",
              "      border-right-color: var(--fill-color);\n",
              "    }\n",
              "    40% {\n",
              "      border-color: transparent;\n",
              "      border-right-color: var(--fill-color);\n",
              "      border-top-color: var(--fill-color);\n",
              "    }\n",
              "    60% {\n",
              "      border-color: transparent;\n",
              "      border-right-color: var(--fill-color);\n",
              "    }\n",
              "    80% {\n",
              "      border-color: transparent;\n",
              "      border-right-color: var(--fill-color);\n",
              "      border-bottom-color: var(--fill-color);\n",
              "    }\n",
              "    90% {\n",
              "      border-color: transparent;\n",
              "      border-bottom-color: var(--fill-color);\n",
              "    }\n",
              "  }\n",
              "</style>\n",
              "\n",
              "  <script>\n",
              "    async function quickchart(key) {\n",
              "      const quickchartButtonEl =\n",
              "        document.querySelector('#' + key + ' button');\n",
              "      quickchartButtonEl.disabled = true;  // To prevent multiple clicks.\n",
              "      quickchartButtonEl.classList.add('colab-df-spinner');\n",
              "      try {\n",
              "        const charts = await google.colab.kernel.invokeFunction(\n",
              "            'suggestCharts', [key], {});\n",
              "      } catch (error) {\n",
              "        console.error('Error during call to suggestCharts:', error);\n",
              "      }\n",
              "      quickchartButtonEl.classList.remove('colab-df-spinner');\n",
              "      quickchartButtonEl.classList.add('colab-df-quickchart-complete');\n",
              "    }\n",
              "    (() => {\n",
              "      let quickchartButtonEl =\n",
              "        document.querySelector('#df-e6ebc3d5-a406-4b2c-8d94-19a15c1486e6 button');\n",
              "      quickchartButtonEl.style.display =\n",
              "        google.colab.kernel.accessAllowed ? 'block' : 'none';\n",
              "    })();\n",
              "  </script>\n",
              "</div>\n",
              "    </div>\n",
              "  </div>\n"
            ],
            "application/vnd.google.colaboratory.intrinsic+json": {
              "type": "dataframe",
              "repr_error": "0"
            }
          },
          "metadata": {},
          "execution_count": 179
        }
      ],
      "source": [
        "train.sample(4)"
      ]
    },
    {
      "cell_type": "code",
      "source": [
        "mean_target = train.groupby('UserName')['Sentiment'].mean() # Группируем по UserName и берем среднее в этих группах по целевой переменной\n",
        "train['UserName'] = train['UserName'].replace(mean_target)\n",
        "test['UserName'] = test['UserName'].replace(mean_target)\n",
        "#len(train['UserName'])\n",
        "#train['UserName'].shape\n",
        "\n",
        "mean_target_Sn = train.groupby('ScreenName')['Sentiment'].mean() # Группируем по ScreenName и берем среднее в этих группах по целевой переменной\n",
        "train['ScreenName'] = train['ScreenName'].replace(mean_target_Sn)\n",
        "test['ScreenName'] = test['ScreenName'].replace(mean_target_Sn)"
      ],
      "metadata": {
        "id": "4dcz9JhcvQ0Z"
      },
      "execution_count": null,
      "outputs": []
    },
    {
      "cell_type": "code",
      "source": [
        "un = np.expand_dims(train['UserName'], axis=1)\n",
        "sn = np.expand_dims(train['ScreenName'], axis=1)\n",
        "un_test = np.expand_dims(test['UserName'], axis=1)\n",
        "sn_test = np.expand_dims(test['ScreenName'], axis=1)\n",
        "# Объединение матрицы cv_train и массива user_name_array\n",
        "cv_train_name = np.hstack((cv_train.toarray(), un))\n",
        "cv_train_name = np.hstack((cv_train_name, sn))\n",
        "cv_train_name\n",
        "cv_test_name = np.hstack((cv_test.toarray(), un_test))\n",
        "cv_test_name = np.hstack((cv_test_name, sn_test))"
      ],
      "metadata": {
        "id": "HHJt514j5lKd"
      },
      "execution_count": null,
      "outputs": []
    },
    {
      "cell_type": "code",
      "source": [
        "clf = LogisticRegression(max_iter=200, random_state=42)\n",
        "clf.fit(cv_train_name, target_train)\n",
        "pred_cv = clf.predict(cv_test_name)\n",
        "cv_accuracy = accuracy_score(target_test, pred_cv)\n",
        "\n",
        "pred_cv_train = clf.predict(cv_train_name)\n",
        "cv_accuracy_train = accuracy_score(target_train, pred_cv_train)\n",
        "print (f'CountVectorizer test: {cv_accuracy}')\n",
        "print (f'CountVectorizer train: {cv_accuracy_train}')"
      ],
      "metadata": {
        "id": "Lxb_k0JLirNv",
        "colab": {
          "base_uri": "https://localhost:8080/"
        },
        "outputId": "f86292b9-745c-4d1b-e675-aad5c6512c81"
      },
      "execution_count": null,
      "outputs": [
        {
          "output_type": "stream",
          "name": "stdout",
          "text": [
            "CountVectorizer test: 0.5463424357185569\n",
            "CountVectorizer train: 1.0\n"
          ]
        }
      ]
    },
    {
      "cell_type": "markdown",
      "metadata": {
        "id": "r8_qR-gnpT3a"
      },
      "source": [
        "**Ответ:** качество на тесте упало, а трейн переобучился. Значит, признак все-таки бесполезен"
      ]
    },
    {
      "cell_type": "markdown",
      "metadata": {
        "id": "ythEcFSkt7y3"
      },
      "source": [
        "Изучим признак TweetAt в обучающей выборке: преобразуем его к типу datetime и построем его гистограмму с разделением по цвету на основе целевой переменной."
      ]
    },
    {
      "cell_type": "code",
      "source": [
        "train['TweetAt'] = pd.to_datetime(train[\"TweetAt\"], format =  \"%d-%m-%Y\")\n",
        "plt.figure(figsize=(12, 6))\n",
        "sns.histplot(data=train, x='TweetAt', hue='Sentiment', bins=50, element='step', palette=['blue', 'red'], legend=True)\n",
        "\n",
        "plt.xlabel('Date')\n",
        "plt.ylabel('Frequency')\n",
        "plt.title('Distribution of Tweets by Date and Sentiment', fontweight = 'bold', fontsize = 16)\n",
        "plt.legend(labels=['Positive Sentiment', 'Negative Sentiment'])\n",
        "plt.grid()\n",
        "plt.show()"
      ],
      "metadata": {
        "colab": {
          "base_uri": "https://localhost:8080/",
          "height": 566
        },
        "id": "AjJ2hSehbB9Q",
        "outputId": "60e867e7-d131-436c-95cd-a1d066b540eb"
      },
      "execution_count": null,
      "outputs": [
        {
          "output_type": "display_data",
          "data": {
            "text/plain": [
              "<Figure size 1200x600 with 1 Axes>"
            ],
            "image/png": "[encoded data removed]"
          },
          "metadata": {}
        }
      ]
    },
    {
      "cell_type": "markdown",
      "metadata": {
        "id": "4IdLBdpQxM-G"
      },
      "source": [
        "**Вывод:** данный признак не информативен, поскольку во все даты были твиты как позитивного, так и негативного характера.\n"
      ]
    },
    {
      "cell_type": "markdown",
      "source": [
        "Поработаем с признаком Location в обучающей выборке."
      ],
      "metadata": {
        "id": "r2JtRPhNP6qx"
      }
    },
    {
      "cell_type": "code",
      "source": [
        "train['Location'].nunique()"
      ],
      "metadata": {
        "id": "xYQZQ1FRNpoe",
        "colab": {
          "base_uri": "https://localhost:8080/"
        },
        "outputId": "c47dd57c-976f-43ac-98ec-cefb5d53d54a"
      },
      "execution_count": null,
      "outputs": [
        {
          "output_type": "execute_result",
          "data": {
            "text/plain": [
              "7949"
            ]
          },
          "metadata": {},
          "execution_count": 185
        }
      ]
    },
    {
      "cell_type": "markdown",
      "source": [
        "Построем гистограмму топ-10 по популярности местоположений (исключая Unknown)"
      ],
      "metadata": {
        "id": "6k4JwpRTQISa"
      }
    },
    {
      "cell_type": "code",
      "source": [
        "top10 = train['Location'].value_counts()[1:11]\n",
        "plt.figure(figsize = (12,5))\n",
        "plt.bar(top10.index, top10.values, edgecolor='black')\n",
        "plt.xticks(rotation = 45)\n",
        "plt.title ('Top-10 the most popular locations', fontweight = 'bold', fontsize = 16)\n",
        "plt.ylabel ('Count')\n",
        "plt.xlabel ('Locations')\n",
        "plt.show()"
      ],
      "metadata": {
        "id": "J91YkhegJ0mz",
        "colab": {
          "base_uri": "https://localhost:8080/",
          "height": 567
        },
        "outputId": "dd481fe5-9d15-415d-df3d-c25f26ba4268"
      },
      "execution_count": null,
      "outputs": [
        {
          "output_type": "display_data",
          "data": {
            "text/plain": [
              "<Figure size 1200x500 with 1 Axes>"
            ],
            "image/png": "[encoded data removed]"
          },
          "metadata": {}
        }
      ]
    },
    {
      "cell_type": "markdown",
      "source": [
        "**Вывод:** Видно, что многие местоположения включают в себя более точное название места, чем другие (Например, у некоторых стоит London, UK; а у некоторых просто UK или United Kingdom).\n",
        "\n",
        "Создадим новый признак WiderLocation, который содержит самое широкое местоположение (например, из London, UK должно получиться UK) Построем аналогичную гистограмму."
      ],
      "metadata": {
        "id": "ZOsv3lODTfYB"
      }
    },
    {
      "cell_type": "code",
      "source": [
        "train ['WiderLocation']  = train['Location'].apply(lambda x: x.split(',')[-1].strip())\n",
        "test ['WiderLocation']  = test['Location'].apply(lambda x: x.split(',')[-1].strip())\n",
        "train ['WiderLocation'].nunique()"
      ],
      "metadata": {
        "id": "mSkow6acOMyD",
        "colab": {
          "base_uri": "https://localhost:8080/"
        },
        "outputId": "6139f692-59cc-4d0c-d122-2f683b4fe277"
      },
      "execution_count": null,
      "outputs": [
        {
          "output_type": "execute_result",
          "data": {
            "text/plain": [
              "4631"
            ]
          },
          "metadata": {},
          "execution_count": 187
        }
      ]
    },
    {
      "cell_type": "code",
      "source": [
        "top10 = train['WiderLocation'].value_counts()[1:11]\n",
        "plt.figure(figsize = (12,5))\n",
        "plt.bar(top10.index, top10.values, edgecolor='black')\n",
        "plt.xticks(rotation = 45)\n",
        "plt.title ('Top-10 the most popular locations', fontweight = 'bold', fontsize = 16)\n",
        "plt.ylabel ('Count')\n",
        "plt.xlabel ('Locations')\n",
        "plt.show()"
      ],
      "metadata": {
        "colab": {
          "base_uri": "https://localhost:8080/",
          "height": 564
        },
        "id": "A45Ta_89RbEd",
        "outputId": "720db804-22a1-49d6-e2e4-0d122a2426a4"
      },
      "execution_count": null,
      "outputs": [
        {
          "output_type": "display_data",
          "data": {
            "text/plain": [
              "<Figure size 1200x500 with 1 Axes>"
            ],
            "image/png": "[encoded data removed]"
          },
          "metadata": {}
        }
      ]
    },
    {
      "cell_type": "markdown",
      "source": [
        "Закодируем признак WiderLocation с помощью OHE таким образом, чтобы создались только столбцы для местоположений, которые встречаются более одного раза.\n"
      ],
      "metadata": {
        "id": "cgyWrD2eVfff"
      }
    },
    {
      "cell_type": "code",
      "source": [
        "loc = train['WiderLocation'].value_counts()[train['WiderLocation'].value_counts() > 1].index\n",
        "loc.nunique()"
      ],
      "metadata": {
        "id": "rkuidw5_T0UR",
        "colab": {
          "base_uri": "https://localhost:8080/"
        },
        "outputId": "108f7088-500a-4332-aa5e-c8554d6168ef"
      },
      "execution_count": null,
      "outputs": [
        {
          "output_type": "execute_result",
          "data": {
            "text/plain": [
              "988"
            ]
          },
          "metadata": {},
          "execution_count": 189
        }
      ]
    },
    {
      "cell_type": "code",
      "source": [
        "from sklearn.preprocessing import OneHotEncoder\n",
        "encoder = OneHotEncoder(handle_unknown='ignore')\n",
        "encoder.fit(loc.values.reshape(-1, 1))\n",
        "encoded_loc = encoder.transform(train[['WiderLocation']].values.reshape(-1, 1))\n",
        "encoded_loc_array = encoded_loc.toarray()\n",
        "encoded_loc_df = pd.DataFrame(encoded_loc_array, columns=loc, index=train.index)\n",
        "encoded_loc_df.shape"
      ],
      "metadata": {
        "id": "x47vBafUg14N",
        "outputId": "293f67e0-1905-4db0-b802-2e37b11dc89f",
        "colab": {
          "base_uri": "https://localhost:8080/"
        }
      },
      "execution_count": null,
      "outputs": [
        {
          "output_type": "execute_result",
          "data": {
            "text/plain": [
              "(23410, 988)"
            ]
          },
          "metadata": {},
          "execution_count": 190
        }
      ]
    },
    {
      "cell_type": "code",
      "source": [
        "encoded_loc_test = encoder.transform(test['WiderLocation'].values.reshape(-1, 1)) # аналогично для теста\n",
        "encoded_loc_array_test = encoded_loc_test.toarray()\n",
        "encoded_loc_df_test = pd.DataFrame(encoded_loc_array_test, columns=loc, index=test.index)\n",
        "encoded_loc_df_test.shape"
      ],
      "metadata": {
        "id": "Q-p8B0EyjZ2l",
        "outputId": "86b205a7-b77a-4419-e0f0-cf35402f7907",
        "colab": {
          "base_uri": "https://localhost:8080/"
        }
      },
      "execution_count": null,
      "outputs": [
        {
          "output_type": "execute_result",
          "data": {
            "text/plain": [
              "(10034, 988)"
            ]
          },
          "metadata": {},
          "execution_count": 191
        }
      ]
    },
    {
      "cell_type": "markdown",
      "source": [
        "Добавим этот признак к матрице отскалированных текстовых признаков, обучим логистическую регрессию, замерим качество."
      ],
      "metadata": {
        "id": "ZyMX5kZuimPK"
      }
    },
    {
      "cell_type": "code",
      "source": [
        "X_train_scaled_loc = np.hstack((cv_train.toarray(), encoded_loc_df))\n",
        "X_test_scaled_loc = np.hstack((cv_test.toarray(), encoded_loc_df_test))"
      ],
      "metadata": {
        "id": "3sn9ut8ykA5X"
      },
      "execution_count": null,
      "outputs": []
    },
    {
      "cell_type": "code",
      "source": [
        "clf = LogisticRegression(max_iter=200, random_state=42)\n",
        "clf.fit(X_train_scaled_loc, target_train)\n",
        "pred_cv = clf.predict(X_test_scaled_loc)\n",
        "cv_accuracy = accuracy_score(target_test, pred_cv)\n",
        "\n",
        "pred_cv_train = clf.predict(X_train_scaled_loc)\n",
        "cv_accuracy_train = accuracy_score(target_train, pred_cv_train)\n",
        "print (f'CountVectorizer test: {cv_accuracy}')\n",
        "print (f'CountVectorizer train: {cv_accuracy_train}')"
      ],
      "metadata": {
        "id": "hLcpur_Mk6DU",
        "outputId": "a1eb1404-2e64-4ff5-e0cf-07f802dc9cad",
        "colab": {
          "base_uri": "https://localhost:8080/"
        }
      },
      "execution_count": null,
      "outputs": [
        {
          "output_type": "stream",
          "name": "stdout",
          "text": [
            "CountVectorizer test: 0.8438309746860674\n",
            "CountVectorizer train: 0.9431012387868433\n"
          ]
        }
      ]
    },
    {
      "cell_type": "markdown",
      "source": [
        "**Вывод:** получилось, что качетсво модели немного упало относительно базовой модели, но не так сильно как с *Username*. Скорее всего, признак не очень полезный"
      ],
      "metadata": {
        "id": "7dHsGlDRYUQt"
      }
    },
    {
      "cell_type": "markdown",
      "source": [
        "### **Итог**: модель, обученная с помощью  векторайзера CountVectorizer, показала наилучшее качество, дополнительные параметры, методы и признаки почти не оказали эффекта."
      ],
      "metadata": {
        "id": "RVSc9Del17CG"
      }
    }
  ],
  "metadata": {
    "colab": {
      "provenance": []
    },
    "kernelspec": {
      "display_name": "Python 3",
      "name": "python3"
    },
    "language_info": {
      "name": "python"
    }
  },
  "nbformat": 4,
  "nbformat_minor": 0
}